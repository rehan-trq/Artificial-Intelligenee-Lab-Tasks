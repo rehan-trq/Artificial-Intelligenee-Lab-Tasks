{
  "nbformat": 4,
  "nbformat_minor": 0,
  "metadata": {
    "colab": {
      "provenance": []
    },
    "kernelspec": {
      "name": "python3",
      "display_name": "Python 3"
    },
    "language_info": {
      "name": "python"
    }
  },
  "cells": [
    {
      "cell_type": "markdown",
      "source": [
        "## Rehan Tariq\n",
        "## 22i-0965\n",
        "## CS-6A"
      ],
      "metadata": {
        "id": "1foAzj5-ZEr9"
      }
    },
    {
      "cell_type": "markdown",
      "source": [
        "## **Task 1: Implementing a Basic Agent Framework**"
      ],
      "metadata": {
        "id": "6cHflPjvZJ6L"
      }
    },
    {
      "cell_type": "code",
      "execution_count": 72,
      "metadata": {
        "colab": {
          "base_uri": "https://localhost:8080/"
        },
        "id": "ffhC9yJOY7OX",
        "outputId": "a24b94df-3c73-422a-d756-051ba527c2f8"
      },
      "outputs": [
        {
          "output_type": "stream",
          "name": "stdout",
          "text": [
            "[['Clean', 'Clean', 'Clean', 'Clean'], ['Clean', 'Clean', 'Clean', 'Clean'], ['Clean', 'Clean', 'Clean', 'Clean'], ['Clean', 'Clean', 'Clean', 'Clean']]\n",
            "[['Dirt', 'Dirt', 'Dirt', 'Clean'], ['Clean', 'Clean', 'Clean', 'Clean'], ['Clean', 'Dirt', 'Dirt', 'Clean'], ['Dirt', 'Clean', 'Clean', 'Clean']]\n",
            "Agent is at position: (3, 2)\n",
            "Current cell state: Clean\n",
            "['Dirt', 'Dirt', 'Dirt', 'Clean']\n",
            "['Clean', 'Clean', 'Clean', 'Clean']\n",
            "['Clean', 'Dirt', 'Dirt', 'Clean']\n",
            "['Dirt', 'Clean', 'Clean', 'Clean']\n"
          ]
        }
      ],
      "source": [
        "import random\n",
        "\n",
        "class Environment:\n",
        "    def __init__(self, size=2):\n",
        "        self.size = size\n",
        "        self.grid = [['Clean' for _ in range(size)] for _ in range(size)]\n",
        "        print(self.grid)\n",
        "        self.place_dirt()\n",
        "\n",
        "    def place_dirt(self):\n",
        "      for i in range(self.size):\n",
        "        for j in range(self.size):\n",
        "            if random.random() < 0.5:\n",
        "                self.grid[i][j] = 'Dirt'\n",
        "\n",
        "      print(self.grid)\n",
        "\n",
        "    def display(self):\n",
        "        for row in self.grid:\n",
        "            print(row)\n",
        "\n",
        "    def isDone(self):\n",
        "        for row in self.grid:\n",
        "            if 'Dirty' in row:\n",
        "                return False\n",
        "        return True\n",
        "\n",
        "class Agent:\n",
        "    def __init__(self, environment):\n",
        "        self.environment = environment\n",
        "        self.x = random.randint(0, environment.size - 1)\n",
        "        self.y = random.randint(0, environment.size - 1)\n",
        "\n",
        "    def sense_environment(self):\n",
        "        return self.environment.grid[self.x][self.y]\n",
        "e = Environment(4)\n",
        "agent = Agent(e)\n",
        "print(f\"Agent is at position: ({agent.x}, {agent.y})\")\n",
        "print(f\"Current cell state: {agent.sense_environment()}\")\n",
        "e.display()"
      ]
    },
    {
      "cell_type": "markdown",
      "source": [
        "## **Task 2: Implementing a Simple Reflex Agent**"
      ],
      "metadata": {
        "id": "SumKg82aawAL"
      }
    },
    {
      "cell_type": "code",
      "source": [
        "# TODO: Implement a Simple Reflex Agent\n",
        "class SimpleReflexAgent(Agent):\n",
        "    def __init__(self, environment):\n",
        "        super().__init__(environment)\n",
        "\n",
        "    def isDone(self):\n",
        "        for row in self.environment.grid:\n",
        "            if 'Dirty' in row:\n",
        "                return False\n",
        "        return True\n",
        "\n",
        "\n",
        "    def act(self):\n",
        "      if self.sense_environment() == 'Dirty':\n",
        "          self.environment.grid[self.x][self.y] = 'Clean'\n",
        "          print(f\"Cleaned cell ({self.x}, {self.y})\")\n",
        "      else:\n",
        "          print(f\"Cell ({self.x}, {self.y}) is already clean\")\n",
        "\n",
        "# TODO: Test the Simple Reflex Agent in the environment\n",
        "\n",
        "environment = Environment(size=5)\n",
        "agent = SimpleReflexAgent(environment)\n",
        "print(\"Initial Grid:\")\n",
        "for row in environment.grid:\n",
        "    print(row)\n",
        "\n",
        "all_clean = False\n",
        "for _ in range(50):\n",
        "    agent.act()\n",
        "    agent.x = random.randint(0, environment.size-1)\n",
        "    agent.y = random.randint(0, environment.size-1)\n",
        "\n",
        "    all_clean = True\n",
        "    for row in environment.grid:\n",
        "        if 'Dirty' in row:\n",
        "            all_clean = False\n",
        "            break\n",
        "    if all_clean:\n",
        "        print(\"All cells are clean\")\n",
        "        break\n",
        "\n",
        "\n",
        "print(\"Final Grid:\")\n",
        "for row in environment.grid:\n",
        "  print(row)\n",
        "\n"
      ],
      "metadata": {
        "colab": {
          "base_uri": "https://localhost:8080/"
        },
        "id": "-8RTR2nIayya",
        "outputId": "d9182345-90a2-4a9a-8a3b-c5cd485ad409"
      },
      "execution_count": 67,
      "outputs": [
        {
          "output_type": "stream",
          "name": "stdout",
          "text": [
            "[['Clean', 'Clean', 'Clean', 'Clean', 'Clean'], ['Clean', 'Clean', 'Clean', 'Clean', 'Clean'], ['Clean', 'Clean', 'Clean', 'Clean', 'Clean'], ['Clean', 'Clean', 'Clean', 'Clean', 'Clean'], ['Clean', 'Clean', 'Clean', 'Clean', 'Clean']]\n",
            "[['Clean', 'Clean', 'Dirt', 'Dirt', 'Dirt'], ['Clean', 'Dirt', 'Dirt', 'Clean', 'Clean'], ['Clean', 'Clean', 'Clean', 'Clean', 'Dirt'], ['Dirt', 'Dirt', 'Clean', 'Clean', 'Clean'], ['Clean', 'Clean', 'Clean', 'Dirt', 'Dirt']]\n",
            "Initial Grid:\n",
            "['Clean', 'Clean', 'Dirt', 'Dirt', 'Dirt']\n",
            "['Clean', 'Dirt', 'Dirt', 'Clean', 'Clean']\n",
            "['Clean', 'Clean', 'Clean', 'Clean', 'Dirt']\n",
            "['Dirt', 'Dirt', 'Clean', 'Clean', 'Clean']\n",
            "['Clean', 'Clean', 'Clean', 'Dirt', 'Dirt']\n",
            "Cell (4, 2) is already clean\n",
            "All cells are clean\n",
            "Final Grid:\n",
            "['Clean', 'Clean', 'Dirt', 'Dirt', 'Dirt']\n",
            "['Clean', 'Dirt', 'Dirt', 'Clean', 'Clean']\n",
            "['Clean', 'Clean', 'Clean', 'Clean', 'Dirt']\n",
            "['Dirt', 'Dirt', 'Clean', 'Clean', 'Clean']\n",
            "['Clean', 'Clean', 'Clean', 'Dirt', 'Dirt']\n"
          ]
        }
      ]
    },
    {
      "cell_type": "markdown",
      "source": [
        "## **Task 3: Implementing a Model-Based Reflex Agent**"
      ],
      "metadata": {
        "id": "pafwxalvo-Cn"
      }
    },
    {
      "cell_type": "code",
      "source": [
        "class ModelBasedReflexAgent:\n",
        "    def __init__(self, environment):\n",
        "        self.environment = environment\n",
        "        self.x = random.randint(0, environment.size - 1)\n",
        "        self.y = random.randint(0, environment.size - 1)\n",
        "        self.memory = {}\n",
        "\n",
        "    def sense_environment(self):\n",
        "        return self.environment.grid[self.x][self.y]\n",
        "\n",
        "    def isDone(self):\n",
        "        for row in self.environment.grid:\n",
        "            if 'Dirty' in row:\n",
        "                return False\n",
        "        return True\n",
        "\n",
        "\n",
        "    def act(self):\n",
        "        self.memory[(self.x, self.y)] = self.sense_environment()\n",
        "\n",
        "        if self.memory[(self.x, self.y)] == 'Dirty':\n",
        "            self.environment.grid[self.x][self.y] = 'Clean'\n",
        "            print(\"Cleaned cell (\", self.x, \",\", self.y, \")\")\n",
        "            self.memory[(self.x, self.y)] = 'Clean'\n",
        "\n",
        "        else:\n",
        "            print(f\"Cell ({self.x}, {self.y}) is already clean\")\n",
        "\n",
        "        self.movement()\n",
        "\n",
        "    def movement(self):\n",
        "        choices = [\n",
        "            (self.x + dx, self.y + dy) for dx, dy in [(-1, 0), (1, 0), (0, -1), (0, 1)]\n",
        "            if 0 <= self.x + dx < self.environment.size and 0 <= self.y + dy < self.environment.size\n",
        "        ]\n",
        "\n",
        "        flag = [pos for pos in choices if pos not in self.memory or self.memory[pos] == 'Dirty']\n",
        "\n",
        "        if flag:\n",
        "            self.x, self.y = random.choice(flag)\n",
        "        else:\n",
        "            self.x, self.y = random.choice(choices)\n",
        "\n",
        "        print(\"Moving to (\", self.x, \",\", self.y, \")\")\n",
        "\n",
        "environment = Environment(5)\n",
        "agent = ModelBasedReflexAgent(environment)\n",
        "\n",
        "print(\"Initial Grid:\")\n",
        "for row in environment.grid:\n",
        "    print(row)\n",
        "\n",
        "check = True\n",
        "\n",
        "for i in range(50):\n",
        "    agent.act()\n",
        "\n",
        "    for row in environment.grid:\n",
        "        if 'Dirty' in row:\n",
        "            check = False\n",
        "            break\n",
        "\n",
        "    if check == False:\n",
        "        check = True\n",
        "    else:\n",
        "        print(\"Grid Cleaned, terminating in\", i, \"iterations\")\n",
        "        break\n",
        "\n",
        "print(\"Final Grid:\")\n",
        "for row in environment.grid:\n",
        "    print(row)"
      ],
      "metadata": {
        "colab": {
          "base_uri": "https://localhost:8080/"
        },
        "id": "-eMmX5Bsm2G_",
        "outputId": "43f275aa-c8b3-4348-81c2-9c5ac22ca2a8"
      },
      "execution_count": 68,
      "outputs": [
        {
          "output_type": "stream",
          "name": "stdout",
          "text": [
            "[['Clean', 'Clean', 'Clean', 'Clean', 'Clean'], ['Clean', 'Clean', 'Clean', 'Clean', 'Clean'], ['Clean', 'Clean', 'Clean', 'Clean', 'Clean'], ['Clean', 'Clean', 'Clean', 'Clean', 'Clean'], ['Clean', 'Clean', 'Clean', 'Clean', 'Clean']]\n",
            "[['Dirt', 'Clean', 'Clean', 'Clean', 'Clean'], ['Dirt', 'Clean', 'Dirt', 'Clean', 'Clean'], ['Clean', 'Dirt', 'Dirt', 'Dirt', 'Dirt'], ['Clean', 'Dirt', 'Clean', 'Dirt', 'Clean'], ['Clean', 'Dirt', 'Dirt', 'Clean', 'Clean']]\n",
            "Initial Grid:\n",
            "['Dirt', 'Clean', 'Clean', 'Clean', 'Clean']\n",
            "['Dirt', 'Clean', 'Dirt', 'Clean', 'Clean']\n",
            "['Clean', 'Dirt', 'Dirt', 'Dirt', 'Dirt']\n",
            "['Clean', 'Dirt', 'Clean', 'Dirt', 'Clean']\n",
            "['Clean', 'Dirt', 'Dirt', 'Clean', 'Clean']\n",
            "Cell (2, 2) is already clean\n",
            "Moving to ( 1 , 2 )\n",
            "Grid Cleaned, terminating in 0 iterations\n",
            "Final Grid:\n",
            "['Dirt', 'Clean', 'Clean', 'Clean', 'Clean']\n",
            "['Dirt', 'Clean', 'Dirt', 'Clean', 'Clean']\n",
            "['Clean', 'Dirt', 'Dirt', 'Dirt', 'Dirt']\n",
            "['Clean', 'Dirt', 'Clean', 'Dirt', 'Clean']\n",
            "['Clean', 'Dirt', 'Dirt', 'Clean', 'Clean']\n"
          ]
        }
      ]
    },
    {
      "cell_type": "markdown",
      "source": [
        "## **Task 4: Measuring Agent Performance**"
      ],
      "metadata": {
        "id": "b5YpQFZkuAn8"
      }
    },
    {
      "cell_type": "code",
      "source": [
        "class PerformanceAgent(ModelBasedReflexAgent):\n",
        "    def __init__(self, environment):\n",
        "        super().__init__(environment)\n",
        "        self.steps = 0\n",
        "        self.cleaned = 0\n",
        "\n",
        "    def act(self):\n",
        "        self.steps += 1\n",
        "        cell_state = self.sense_environment()\n",
        "        if cell_state == 'Dirt':\n",
        "            print(f\"Agent cleaning dirt at location: {self.location}\")\n",
        "            self.environment.grid[self.x][self.y] = 'Clean'\n",
        "            self.cleaned += 1\n",
        "        else:\n",
        "            print(f\"Agent at location {self.location} found it clean.\")\n",
        "\n",
        "        self.memory[self.location] = 'Clean'\n",
        "        self.environment.print_grid()\n",
        "        self.movement()\n",
        "\n",
        "\n",
        "    def run(self):\n",
        "        while not self.environment.isDone():\n",
        "            self.act()\n",
        "        print(\"All dirt has been cleaned!\")\n",
        "        print(f\"Performance Metrics:\")\n",
        "        print(f\"Total Steps Taken: {self.steps}\")\n",
        "        print(f\"Total Dirty Cells Cleaned: {self.cleaned}\")\n",
        "        print(f\"Cleaning Efficiency: {self.cleaned / self.steps * 100:.2f}%\")\n",
        "\n",
        "environment = Environment(4)\n",
        "agent = PerformanceAgent(environment)\n",
        "agent.run()"
      ],
      "metadata": {
        "colab": {
          "base_uri": "https://localhost:8080/",
          "height": 402
        },
        "id": "b820eQ-bv5K0",
        "outputId": "c03fb80b-c17e-457b-cce8-63ece7ff17d8"
      },
      "execution_count": 73,
      "outputs": [
        {
          "output_type": "stream",
          "name": "stdout",
          "text": [
            "[['Clean', 'Clean', 'Clean', 'Clean'], ['Clean', 'Clean', 'Clean', 'Clean'], ['Clean', 'Clean', 'Clean', 'Clean'], ['Clean', 'Clean', 'Clean', 'Clean']]\n",
            "[['Clean', 'Dirt', 'Clean', 'Clean'], ['Dirt', 'Clean', 'Dirt', 'Dirt'], ['Clean', 'Clean', 'Dirt', 'Clean'], ['Clean', 'Clean', 'Dirt', 'Dirt']]\n",
            "All dirt has been cleaned!\n",
            "Performance Metrics:\n",
            "Total Steps Taken: 0\n",
            "Total Dirty Cells Cleaned: 0\n"
          ]
        },
        {
          "output_type": "error",
          "ename": "ZeroDivisionError",
          "evalue": "division by zero",
          "traceback": [
            "\u001b[0;31m---------------------------------------------------------------------------\u001b[0m",
            "\u001b[0;31mZeroDivisionError\u001b[0m                         Traceback (most recent call last)",
            "\u001b[0;32m<ipython-input-73-c0ebb5f82a19>\u001b[0m in \u001b[0;36m<cell line: 0>\u001b[0;34m()\u001b[0m\n\u001b[1;32m     31\u001b[0m \u001b[0menvironment\u001b[0m \u001b[0;34m=\u001b[0m \u001b[0mEnvironment\u001b[0m\u001b[0;34m(\u001b[0m\u001b[0;36m4\u001b[0m\u001b[0;34m)\u001b[0m\u001b[0;34m\u001b[0m\u001b[0;34m\u001b[0m\u001b[0m\n\u001b[1;32m     32\u001b[0m \u001b[0magent\u001b[0m \u001b[0;34m=\u001b[0m \u001b[0mPerformanceAgent\u001b[0m\u001b[0;34m(\u001b[0m\u001b[0menvironment\u001b[0m\u001b[0;34m)\u001b[0m\u001b[0;34m\u001b[0m\u001b[0;34m\u001b[0m\u001b[0m\n\u001b[0;32m---> 33\u001b[0;31m \u001b[0magent\u001b[0m\u001b[0;34m.\u001b[0m\u001b[0mrun\u001b[0m\u001b[0;34m(\u001b[0m\u001b[0;34m)\u001b[0m\u001b[0;34m\u001b[0m\u001b[0;34m\u001b[0m\u001b[0m\n\u001b[0m",
            "\u001b[0;32m<ipython-input-73-c0ebb5f82a19>\u001b[0m in \u001b[0;36mrun\u001b[0;34m(self)\u001b[0m\n\u001b[1;32m     27\u001b[0m         \u001b[0mprint\u001b[0m\u001b[0;34m(\u001b[0m\u001b[0;34mf\"Total Steps Taken: {self.steps}\"\u001b[0m\u001b[0;34m)\u001b[0m\u001b[0;34m\u001b[0m\u001b[0;34m\u001b[0m\u001b[0m\n\u001b[1;32m     28\u001b[0m         \u001b[0mprint\u001b[0m\u001b[0;34m(\u001b[0m\u001b[0;34mf\"Total Dirty Cells Cleaned: {self.cleaned}\"\u001b[0m\u001b[0;34m)\u001b[0m\u001b[0;34m\u001b[0m\u001b[0;34m\u001b[0m\u001b[0m\n\u001b[0;32m---> 29\u001b[0;31m         \u001b[0mprint\u001b[0m\u001b[0;34m(\u001b[0m\u001b[0;34mf\"Cleaning Efficiency: {self.cleaned / self.steps * 100:.2f}%\"\u001b[0m\u001b[0;34m)\u001b[0m\u001b[0;34m\u001b[0m\u001b[0;34m\u001b[0m\u001b[0m\n\u001b[0m\u001b[1;32m     30\u001b[0m \u001b[0;34m\u001b[0m\u001b[0m\n\u001b[1;32m     31\u001b[0m \u001b[0menvironment\u001b[0m \u001b[0;34m=\u001b[0m \u001b[0mEnvironment\u001b[0m\u001b[0;34m(\u001b[0m\u001b[0;36m4\u001b[0m\u001b[0;34m)\u001b[0m\u001b[0;34m\u001b[0m\u001b[0;34m\u001b[0m\u001b[0m\n",
            "\u001b[0;31mZeroDivisionError\u001b[0m: division by zero"
          ]
        }
      ]
    },
    {
      "cell_type": "code",
      "source": [],
      "metadata": {
        "id": "exXNyXhayHus"
      },
      "execution_count": null,
      "outputs": []
    }
  ]
}