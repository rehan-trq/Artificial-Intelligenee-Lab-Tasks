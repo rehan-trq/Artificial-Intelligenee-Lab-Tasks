{
  "nbformat": 4,
  "nbformat_minor": 0,
  "metadata": {
    "colab": {
      "provenance": []
    },
    "kernelspec": {
      "name": "python3",
      "display_name": "Python 3"
    },
    "language_info": {
      "name": "python"
    }
  },
  "cells": [
    {
      "cell_type": "markdown",
      "source": [
        "## Rehan Tariq\n",
        "## 22i-0965\n",
        "## CS-6A"
      ],
      "metadata": {
        "id": "jLHLozEGbGyI"
      }
    },
    {
      "cell_type": "markdown",
      "source": [
        "Task 1"
      ],
      "metadata": {
        "id": "ld-VrHgPbNdf"
      }
    },
    {
      "cell_type": "code",
      "execution_count": 20,
      "metadata": {
        "colab": {
          "base_uri": "https://localhost:8080/"
        },
        "id": "rO6GTg6wTse5",
        "outputId": "7f694e8a-cc53-49fe-f268-b39f552a4217"
      },
      "outputs": [
        {
          "output_type": "stream",
          "name": "stdout",
          "text": [
            "2\n"
          ]
        }
      ],
      "source": [
        "\n",
        "import math\n",
        "\n",
        "def  rdistance(movements):\n",
        "    x = 0\n",
        "    y = 0\n",
        "\n",
        "    for move in movements:\n",
        "        direction, steps = move.split(':')\n",
        "        steps = int(steps)\n",
        "\n",
        "        if direction == \"UP\":\n",
        "            y += steps\n",
        "        elif direction == \"DOWN\":\n",
        "            y -= steps\n",
        "        elif direction == \"LEFT\":\n",
        "            x -= steps\n",
        "        elif direction == \"RIGHT\":\n",
        "            x += steps\n",
        "\n",
        "    distance = math.sqrt(x**2 + y**2)\n",
        "    return round(distance)\n",
        "\n",
        "movements = [\"UP:5\", \"DOWN:3\", \"LEFT:3\", \"RIGHT:2\"]\n",
        "distance = rdistance(movements)\n",
        "print(distance)\n"
      ]
    },
    {
      "cell_type": "markdown",
      "source": [],
      "metadata": {
        "id": "aVNpl9aQVday"
      }
    },
    {
      "cell_type": "markdown",
      "source": [
        "Task 2"
      ],
      "metadata": {
        "id": "zKBt2dvjbP-f"
      }
    },
    {
      "cell_type": "code",
      "source": [
        "import numpy as np\n",
        "\n",
        "matrix = np.random.randint(1, 101, size=(4, 4))\n",
        "print(\"Original Matrix:\\n\", matrix)\n",
        "\n",
        "matrix = np.where(matrix > 50, 1, 0)\n",
        "\n",
        "n_ones = np.sum(matrix)\n",
        "\n",
        "print(\"Modified Matrix:\\n\", matrix)\n",
        "print(\"Number of 1's:\", n_ones)"
      ],
      "metadata": {
        "colab": {
          "base_uri": "https://localhost:8080/"
        },
        "id": "tzE3B4wrWTGp",
        "outputId": "22123bb2-8fda-42d3-b9a0-57fe0e5529a1"
      },
      "execution_count": 32,
      "outputs": [
        {
          "output_type": "stream",
          "name": "stdout",
          "text": [
            "Original Matrix:\n",
            " [[55 91 41 21]\n",
            " [64 32 92 48]\n",
            " [62 85 80 20]\n",
            " [75 95  4 18]]\n",
            "Modified Matrix:\n",
            " [[1 1 0 0]\n",
            " [1 0 1 0]\n",
            " [1 1 1 0]\n",
            " [1 1 0 0]]\n",
            "Number of 1's: 9\n"
          ]
        }
      ]
    },
    {
      "cell_type": "markdown",
      "source": [
        "Task 3"
      ],
      "metadata": {
        "id": "dG3-4LJ9bROf"
      }
    },
    {
      "cell_type": "code",
      "source": [
        "import re\n",
        "import math\n",
        "\n",
        "def findsquares(filename):\n",
        "    perfect_squares = set()\n",
        "    try:\n",
        "        with open(filename, 'r') as file:\n",
        "            for line in file:\n",
        "                match = re.match(r\"^\\d+$\", line.strip())\n",
        "                if match:\n",
        "                    num = int(line.strip())\n",
        "                    if num >= 0 :\n",
        "                        is_perfect_square = lambda n: int(math.sqrt(n))**2 == n\n",
        "                        if is_perfect_square(num):\n",
        "                            perfect_squares.add(num)\n",
        "    except FileNotFoundError:\n",
        "        print(f\"Error: File '{filename}' not found.\")\n",
        "    return perfect_squares\n",
        "squares = findsquares(\"/task3_input.txt\")\n",
        "squares"
      ],
      "metadata": {
        "colab": {
          "base_uri": "https://localhost:8080/"
        },
        "id": "dDo0E0WnYDeg",
        "outputId": "ad61fda8-fb59-4c31-eb58-ec49ed23a01e"
      },
      "execution_count": 11,
      "outputs": [
        {
          "output_type": "execute_result",
          "data": {
            "text/plain": [
              "{16, 25, 36, 64, 144, 256, 400, 900, 10000}"
            ]
          },
          "metadata": {},
          "execution_count": 11
        }
      ]
    },
    {
      "cell_type": "markdown",
      "source": [
        "Task 4"
      ],
      "metadata": {
        "id": "FhZounh4esF2"
      }
    },
    {
      "cell_type": "code",
      "source": [
        "import pandas as pd\n",
        "import numpy as np\n",
        "\n",
        "def find_third_nan_column(df):\n",
        "    cols = []\n",
        "    for index, row in df.iterrows():\n",
        "        nan_indices = np.where(pd.isna(row))[0]\n",
        "        if len(nan_indices) >= 3:\n",
        "            cols.append(df.columns[nan_indices[2]])\n",
        "        else:\n",
        "            cols.append(None)\n",
        "    return pd.Series(cols, index=df.index)\n",
        "\n",
        "data = {'a': [0.04, np.nan, np.nan, 0.49, np.nan],\n",
        "        'b': [np.nan, np.nan, np.nan, np.nan, np.nan],\n",
        "        'c': [np.nan, np.nan, 0.50, np.nan, 0.41],\n",
        "        'd': [0.25, 0.04, np.nan, 0.62, np.nan],\n",
        "        'e': [np.nan, 0.76, 0.31, 0.73, 0.05],\n",
        "        'f': [0.43, np.nan, 0.40, 0.26, np.nan],\n",
        "        'g': [0.71, np.nan, np.nan, 0.85, 0.61],\n",
        "        'h': [0.51, 0.67, np.nan, np.nan, np.nan],\n",
        "        'i': [np.nan, 0.76, 0.24, np.nan, 0.48],\n",
        "        'j': [np.nan, 0.16, 0.01, np.nan, 0.68]}\n",
        "df = pd.DataFrame(data)\n",
        "result_series = find_third_nan_column(df)\n",
        "result_series"
      ],
      "metadata": {
        "colab": {
          "base_uri": "https://localhost:8080/",
          "height": 241
        },
        "id": "Uf6KA92detHW",
        "outputId": "b6ba6be4-8b66-4067-e666-8794a1f938b8"
      },
      "execution_count": 34,
      "outputs": [
        {
          "output_type": "execute_result",
          "data": {
            "text/plain": [
              "0    e\n",
              "1    c\n",
              "2    d\n",
              "3    h\n",
              "4    d\n",
              "dtype: object"
            ],
            "text/html": [
              "<div>\n",
              "<style scoped>\n",
              "    .dataframe tbody tr th:only-of-type {\n",
              "        vertical-align: middle;\n",
              "    }\n",
              "\n",
              "    .dataframe tbody tr th {\n",
              "        vertical-align: top;\n",
              "    }\n",
              "\n",
              "    .dataframe thead th {\n",
              "        text-align: right;\n",
              "    }\n",
              "</style>\n",
              "<table border=\"1\" class=\"dataframe\">\n",
              "  <thead>\n",
              "    <tr style=\"text-align: right;\">\n",
              "      <th></th>\n",
              "      <th>0</th>\n",
              "    </tr>\n",
              "  </thead>\n",
              "  <tbody>\n",
              "    <tr>\n",
              "      <th>0</th>\n",
              "      <td>e</td>\n",
              "    </tr>\n",
              "    <tr>\n",
              "      <th>1</th>\n",
              "      <td>c</td>\n",
              "    </tr>\n",
              "    <tr>\n",
              "      <th>2</th>\n",
              "      <td>d</td>\n",
              "    </tr>\n",
              "    <tr>\n",
              "      <th>3</th>\n",
              "      <td>h</td>\n",
              "    </tr>\n",
              "    <tr>\n",
              "      <th>4</th>\n",
              "      <td>d</td>\n",
              "    </tr>\n",
              "  </tbody>\n",
              "</table>\n",
              "</div><br><label><b>dtype:</b> object</label>"
            ]
          },
          "metadata": {},
          "execution_count": 34
        }
      ]
    },
    {
      "cell_type": "markdown",
      "source": [
        "Task 5"
      ],
      "metadata": {
        "id": "gy4YLuele_tW"
      }
    },
    {
      "cell_type": "code",
      "source": [
        "import numpy as np\n",
        "\n",
        "array1 = np.random.randint(5, 31, size=(4, 7))\n",
        "array2 = np.random.randint(5, 31, size=(4, 7))\n",
        "\n",
        "print(\"Type:\", array1.dtype)\n",
        "print(\"Shape:\", array1.shape)\n",
        "\n",
        "array1 = np.where(array1 == 15, np.nan, array1)\n",
        "array1 = np.where(np.isnan(array1), np.random.randint(5, 31), array1)\n",
        "\n",
        "unique_values, counts = np.unique(array1, return_counts=True)\n",
        "print(\"Unique values:\", unique_values)\n",
        "print(\"Counts:\", counts)\n",
        "\n",
        "print(\"Array 1\\n\", array1)\n",
        "\n",
        "sorted_array = array1[array1[:, -1].argsort()]\n",
        "print(\"Sorted array:\\n\", sorted_array)\n",
        "\n",
        "array1 = np.where((array1 < 15) | (array1 > 26), np.nan, array1)\n",
        "array1 = np.nan_to_num(array1, nan=0)\n",
        "total_sum = np.sum(array1)\n",
        "print(\"Sum of elements after clipping and replacing NaN with 0:\", total_sum)"
      ],
      "metadata": {
        "colab": {
          "base_uri": "https://localhost:8080/"
        },
        "id": "vWr8ST1MfI0-",
        "outputId": "8e2d9b45-0511-4bd8-c6c9-bceee4cf6850"
      },
      "execution_count": 27,
      "outputs": [
        {
          "output_type": "stream",
          "name": "stdout",
          "text": [
            "Type: int64\n",
            "Shape: (4, 7)\n",
            "Unique values: [ 5.  6.  7.  9. 10. 11. 16. 18. 19. 21. 23. 24. 28. 29. 30.]\n",
            "Counts: [1 2 1 2 1 2 2 1 1 2 4 2 1 3 3]\n",
            "Array 1\n",
            " [[ 6. 30. 23. 30. 16. 28. 29.]\n",
            " [ 5. 24. 29. 30. 21. 24. 18.]\n",
            " [ 9.  7. 11. 11. 10. 21. 23.]\n",
            " [29. 23. 23.  9. 19.  6. 16.]]\n",
            "Sorted array:\n",
            " [[29. 23. 23.  9. 19.  6. 16.]\n",
            " [ 5. 24. 29. 30. 21. 24. 18.]\n",
            " [ 9.  7. 11. 11. 10. 21. 23.]\n",
            " [ 6. 30. 23. 30. 16. 28. 29.]]\n",
            "Sum of elements after clipping and replacing NaN with 0: 251.0\n"
          ]
        }
      ]
    },
    {
      "cell_type": "markdown",
      "source": [
        "Task 6"
      ],
      "metadata": {
        "id": "2QLVkaOJhuXm"
      }
    },
    {
      "cell_type": "code",
      "source": [
        "import pandas as pd\n",
        "import matplotlib.pyplot as plt\n",
        "import seaborn as sns\n",
        "\n",
        "try:\n",
        "    df = pd.read_csv(\"/House_Rent_Dataset.csv\")\n",
        "except FileNotFoundError:\n",
        "    print(\"Error: 'House_Rent_Dataset.csv' not found. Please make sure the file is in the current directory or provide the correct path.\")\n",
        "    exit()\n",
        "\n",
        "n_cols = df.select_dtypes(include=['number']).columns\n",
        "for col in n_cols:\n",
        "    df[col] = df[col].fillna(df[col].mean())\n",
        "\n",
        "avg_rentbhk = df.groupby(['BHK', 'Bathroom'])['Rent'].mean().reset_index()\n",
        "print(\"\\nAverage rent by BHK and Bathroom:\")\n",
        "print(avg_rentbhk)\n",
        "\n",
        "avg_rentcity = df.groupby(\"City\")[\"Rent\"].mean()\n",
        "h_rentcity = avg_rentcity.idxmax()\n",
        "h_rentval = avg_rentcity.max()\n",
        "print(f\"\\nCity with highest average rent: {h_rentcity} ({h_rentval:.2f})\")\n",
        "\n",
        "df['Rent per sq ft'] = df['Rent'] / df['Size']\n",
        "top_localities = df.groupby('Area Locality')['Rent per sq ft'].mean().nlargest(5)\n",
        "print(f\"\\nLocalities with highest average rent per sq ft:\\n{top_localities}\")\n",
        "\n",
        "unfurnished_count = df[df['Furnishing Status'] == 'Unfurnished'].shape[0]\n",
        "print(f\"\\nUnfurnished houses: {unfurnished_count}\")\n",
        "\n",
        "plt.figure(figsize=(8, 6))\n",
        "sns.barplot(x='Furnishing Status', y='Rent', data=df)\n",
        "plt.title('Average Rent by Furnishing Status')\n",
        "plt.xlabel('Furnishing Status')\n",
        "plt.ylabel('Average Rent')\n",
        "plt.show()"
      ],
      "metadata": {
        "colab": {
          "base_uri": "https://localhost:8080/",
          "height": 1000
        },
        "id": "-uMhjOzShyFE",
        "outputId": "e75222a0-3634-40bb-bccf-2fe570942196"
      },
      "execution_count": 33,
      "outputs": [
        {
          "output_type": "stream",
          "name": "stdout",
          "text": [
            "\n",
            "Average rent by BHK and Bathroom:\n",
            "    BHK  Bathroom           Rent\n",
            "0     1         1   12115.252465\n",
            "1     1         2   26285.959732\n",
            "2     1         3   29500.000000\n",
            "3     1         4   40000.000000\n",
            "4     1        10  200000.000000\n",
            "5     2         1   11139.846154\n",
            "6     2         2   24128.808535\n",
            "7     2         3   40292.452830\n",
            "8     2         4  100000.000000\n",
            "9     3         1   13598.900000\n",
            "10    3         2   29396.605797\n",
            "11    3         3   64002.790030\n",
            "12    3         4  141888.888889\n",
            "13    3         5  122666.666667\n",
            "14    3         6   20000.000000\n",
            "15    4         1   13000.000000\n",
            "16    4         2   21184.692308\n",
            "17    4         3   87419.354839\n",
            "18    4         4  184231.578947\n",
            "19    4         5  233625.000000\n",
            "20    4         6  240000.000000\n",
            "21    4         7  150000.000000\n",
            "22    5         2   23750.000000\n",
            "23    5         3   45000.000000\n",
            "24    5         4  253333.333333\n",
            "25    5         5  395833.333333\n",
            "26    5         6   50000.000000\n",
            "27    6         2   20000.000000\n",
            "28    6         4   20000.000000\n",
            "29    6         5  155000.000000\n",
            "30    6         6   70000.000000\n",
            "31    6         7   47500.000000\n",
            "\n",
            "City with highest average rent: Mumbai (85321.20)\n",
            "\n",
            "Top 5 localities with highest average rent per sq ft:\n",
            "Area Locality\n",
            "Lal Darwaza                     1000.000000\n",
            "Vettuvankeni                     631.578947\n",
            "Ghatkesar, NH 2 2                506.508296\n",
            "Panchsheel Park                  500.000000\n",
            "Mandakini Enclave, Alaknanda     450.000000\n",
            "Name: Rent per sq ft, dtype: float64\n",
            "\n",
            "Number of unfurnished houses: 1815\n"
          ]
        },
        {
          "output_type": "display_data",
          "data": {
            "text/plain": [
              "<Figure size 800x600 with 1 Axes>"
            ],
            "image/png": "[encoded data removed]"
          },
          "metadata": {}
        }
      ]
    }
  ]
}