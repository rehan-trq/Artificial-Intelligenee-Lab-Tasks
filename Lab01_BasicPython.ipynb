{
  "nbformat": 4,
  "nbformat_minor": 0,
  "metadata": {
    "colab": {
      "provenance": []
    },
    "kernelspec": {
      "name": "python3",
      "display_name": "Python 3"
    },
    "language_info": {
      "name": "python"
    }
  },
  "cells": [
    {
      "cell_type": "markdown",
      "source": [
        "## Rehan tariq\n",
        "## 22i-0965\n",
        "## CS-6A"
      ],
      "metadata": {
        "id": "H9Spl26eeiA9"
      }
    },
    {
      "cell_type": "markdown",
      "source": [
        "## Task 1"
      ],
      "metadata": {
        "id": "Eclo-nQ0emcs"
      }
    },
    {
      "cell_type": "code",
      "source": [
        "cel_temp = float(input('Enter temperature in Celsius: '))\n",
        "fah_temp = (9/5 * cel_temp) + 32\n",
        "print('Temperature in Fahrenheit is: ', fah_temp)"
      ],
      "metadata": {
        "colab": {
          "base_uri": "https://localhost:8080/"
        },
        "id": "v5n5Lo69epd0",
        "outputId": "2c92c925-834f-413b-a780-6a7cd1e55342"
      },
      "execution_count": 2,
      "outputs": [
        {
          "output_type": "stream",
          "name": "stdout",
          "text": [
            "Enter temperature in Celsius: 37\n",
            "Temperature in Fahrenheit is:  98.60000000000001\n"
          ]
        }
      ]
    },
    {
      "cell_type": "markdown",
      "source": [
        "## Task 2"
      ],
      "metadata": {
        "id": "qvKT9efKeuac"
      }
    },
    {
      "cell_type": "code",
      "source": [
        "keys = ['name', 'age', 'grade']\n",
        "values = ['Ali', 20, 'A']\n",
        "\n",
        "dictionary = {}\n",
        "for i in range (len(keys)):\n",
        "    dictionary[keys[i]] = values[i]\n",
        "\n",
        "print(dictionary)"
      ],
      "metadata": {
        "colab": {
          "base_uri": "https://localhost:8080/"
        },
        "id": "YhsT0Q2yexg0",
        "outputId": "213a1fe2-8373-4d83-ab61-37820826b21c"
      },
      "execution_count": 3,
      "outputs": [
        {
          "output_type": "stream",
          "name": "stdout",
          "text": [
            "{'name': 'Ali', 'age': 20, 'grade': 'A'}\n"
          ]
        }
      ]
    },
    {
      "cell_type": "markdown",
      "source": [
        "## Task 3"
      ],
      "metadata": {
        "id": "-3NxzosReS6N"
      }
    },
    {
      "cell_type": "code",
      "execution_count": 1,
      "metadata": {
        "colab": {
          "base_uri": "https://localhost:8080/"
        },
        "id": "pgXu_RUKeRnW",
        "outputId": "c3638257-3cf2-4686-d9a2-7f14acdee823"
      },
      "outputs": [
        {
          "output_type": "stream",
          "name": "stdout",
          "text": [
            "Enter number: 1\n",
            "Enter number: 3\n",
            "Enter number: 2\n",
            "Enter number: 4\n",
            "Enter number: 5\n",
            "[1, 3, 2, 4, 5]\n",
            "3.0\n",
            "15\n"
          ]
        }
      ],
      "source": [
        "def function(numbers):\n",
        "\n",
        "    average = (sum(numbers))/(len(numbers))\n",
        "    print(average)\n",
        "    if(average < 40):\n",
        "        return (sum(numbers))\n",
        "    else:\n",
        "        return (max(numbers))\n",
        "\n",
        "count = 5\n",
        "listofnumbers = []\n",
        "\n",
        "for i in range (count):\n",
        "    number = int(input(\"Enter number: \"))\n",
        "    listofnumbers.append(number)\n",
        "print(listofnumbers)\n",
        "result = function(listofnumbers)\n",
        "\n",
        "print(result)\n"
      ]
    },
    {
      "cell_type": "markdown",
      "source": [
        "## Task 4"
      ],
      "metadata": {
        "id": "W5O750Fpe1w0"
      }
    },
    {
      "cell_type": "code",
      "source": [
        "def ftn(numbers):\n",
        "  flattenlist =[]\n",
        "  for i in numbers:\n",
        "        if isinstance(i, list):\n",
        "            flattenlist.extend(ftn(i))\n",
        "        else:\n",
        "            flattenlist.append(i)\n",
        "  return flattenlist\n",
        "\n",
        "\n",
        "x = ['X', 45.5, [67.8, 'Y'], [8,9,'Z']]\n",
        "y = [[[1,2,3], [4,5]], 6]\n",
        "print(ftn(x))\n"
      ],
      "metadata": {
        "colab": {
          "base_uri": "https://localhost:8080/"
        },
        "id": "UcCQbwFoe6DM",
        "outputId": "2bd9b9fa-a0ad-4d13-96b8-a52a647b8e65"
      },
      "execution_count": 10,
      "outputs": [
        {
          "output_type": "stream",
          "name": "stdout",
          "text": [
            "['X', 45.5, 67.8, 'Y', 8, 9, 'Z']\n"
          ]
        }
      ]
    },
    {
      "cell_type": "markdown",
      "source": [
        "## Task 5"
      ],
      "metadata": {
        "id": "gpN_Eujre8F0"
      }
    },
    {
      "cell_type": "code",
      "source": [
        "x = int(input('Enter a number: '))\n",
        "\n",
        "for i in range (1, x+1):\n",
        "    if i%2 == 0:\n",
        "        print(i)"
      ],
      "metadata": {
        "colab": {
          "base_uri": "https://localhost:8080/"
        },
        "id": "lKnvcx0We-FM",
        "outputId": "9854112f-6240-44bd-ea84-121bee4ed3fa"
      },
      "execution_count": 4,
      "outputs": [
        {
          "output_type": "stream",
          "name": "stdout",
          "text": [
            "Enter a number: 10\n",
            "2\n",
            "4\n",
            "6\n",
            "8\n",
            "10\n"
          ]
        }
      ]
    }
  ]
}