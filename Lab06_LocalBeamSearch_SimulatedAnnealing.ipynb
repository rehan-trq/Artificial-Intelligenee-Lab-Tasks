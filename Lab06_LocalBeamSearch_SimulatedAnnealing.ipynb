{
  "cells": [
    {
      "cell_type": "code",
      "execution_count": 1,
      "id": "d35f1LlDlaDb",
      "metadata": {
        "id": "d35f1LlDlaDb"
      },
      "outputs": [],
      "source": [
        "import numpy as np\n",
        "import random\n",
        "import math\n",
        "import heapq\n",
        "import networkx as nx\n",
        "import matplotlib.pyplot as plt"
      ]
    },
    {
      "cell_type": "markdown",
      "id": "meZ0eSAxle1A",
      "metadata": {
        "id": "meZ0eSAxle1A"
      },
      "source": [
        "# **Question 1**"
      ]
    },
    {
      "cell_type": "markdown",
      "id": "XwW1L5US3hGt",
      "metadata": {
        "id": "XwW1L5US3hGt"
      },
      "source": [
        "### **Example Beam Search Visualization for your understanding**\n",
        "#### **Problem**  \n",
        "We have **3 machines** and **8 tasks** with durations:  \n",
        "Tasks = `[4, 7, 2, 5, 8, 3, 6, 1]`  \n",
        "The goal is to assign tasks to machines **minimizing makespan** (maximum load).  \n",
        "\n",
        "---\n",
        "\n",
        "### **Step 1: Assign Task 0 (4 minutes) to Any Machine**  \n",
        "\n",
        "| Option | Machine 0 | Machine 1 | Machine 2 | Makespan |\n",
        "|--------|------------|------------|------------|------------|\n",
        "| Assign Task 0 | `4` | `0` | `0` | **4** |\n",
        "| Assign Task 0 | `0` | `4` | `0` | **4** |\n",
        "| Assign Task 0 | `0` | `0` | `4` | **4** |\n",
        "\n",
        "Keep **best `beam_width` states** (ones with lowest makespan).  \n",
        "\n",
        "---\n",
        "\n",
        "### **Step 2: Assign Task 1 (7 minutes)**  \n",
        "\n",
        "For each previous state, assign **Task 1 (7 min)**.  \n",
        "Example if we kept **2 best states** from Step 1:  \n",
        "\n",
        "| Option | Machine 0 | Machine 1 | Machine 2 | Makespan |\n",
        "|--------|------------|------------|------------|------------|\n",
        "| Assign Task 1 | `4+7=11` | `0` | `0` | **11** |\n",
        "| Assign Task 1 | `4` | `7` | `0` | **7** |\n",
        "| Assign Task 1 | `4` | `0` | `7` | **7** |\n",
        "\n",
        "Keep **best `beam_width` states**.  \n",
        "\n",
        "---\n",
        "\n",
        "### **Step 3: Assign Task 2 (2 minutes)**  \n",
        "For each best state from Step 2, assign Task 2:  \n",
        "\n",
        "| State | Machine 0 | Machine 1 | Machine 2 | Makespan |\n",
        "|-------|------------|------------|------------|------------|\n",
        "| **State A** | `11` | `0` | `0` | **11** |\n",
        "| **State B** | `4` | `7` | `0` | **7** |\n",
        "\n",
        "#### **Expand: Assign Task 2 (2 min)**  \n",
        "\n",
        "| New State | Machine 0 | Machine 1 | Machine 2 | Makespan |\n",
        "|------------|------------|------------|------------|------------|\n",
        "| **State A1** | `13` | `0` | `0` | **13** |\n",
        "| **State A2** | `11` | `2` | `0` | **11** |\n",
        "| **State A3** | `11` | `0` | `2` | **11** |\n",
        "| **State B1** | `6` | `7` | `0` | **7** |\n",
        "| **State B2** | `4` | `9` | `0` | **9** |\n",
        "| **State B3** | `4` | `7` | `2` | **7** |\n",
        "\n",
        "Keep **best `beam_width` states**:  \n",
        "*   `State B1 → [6, 7, 0]` (**makespan 7**)  \n",
        "*   `State B3 → [4, 7, 2]` (**makespan 7**)  \n",
        "\n",
        "---\n",
        "\n",
        "### **Continue Assigning Tasks Until All Tasks Are Assigned**  \n",
        "- Repeat the same process for all tasks.  \n",
        "- Expand states → Compute makespan → Keep best `beam_width` states.  \n",
        "- The final state with the lowest makespan is the **optimal schedule**.  \n",
        "\n",
        "---\n",
        "\n",
        "### **Final Output Example**\n",
        "\n",
        "| Machine 0 | Machine 1 | Machine 2 | Final Makespan |\n",
        "|------------|------------|------------|------------|\n",
        "| `12` | `15` | `14` | **15** |\n",
        "\n",
        " **Final Assignments:**  \n",
        "`[(0,0), (1,1), (2,2), (3,0), (4,1), (5,2), (6,0), (7,1)]`  \n",
        "\n",
        "---\n",
        "\n",
        "**What Beam Search do?**  \n",
        "*   **Beam Search efficiently assigns tasks without brute force.**  \n",
        "*   **Only the best `beam_width` states are explored, making it faster.**  \n",
        "*   **Minimizing makespan ensures fair task distribution.**  \n",
        "\n",
        " **Now, implement it. Best of Luck!**\n"
      ]
    },
    {
      "cell_type": "code",
      "execution_count": 21,
      "id": "OtVIOZhuldw9",
      "metadata": {
        "id": "OtVIOZhuldw9"
      },
      "outputs": [],
      "source": [
        "def beam_search_task_scheduling(tasks, num_machines, beam_width):\n",
        "    \"\"\"\n",
        "    Use Beam Search to assign tasks to machines while minimizing makespan.\n",
        "\n",
        "    Return:\n",
        "        best_schedule (list of tuples): Task assignments as (task_id, machine_id).\n",
        "        final_machine_loads (list): Total load (time) on each machine.\n",
        "    \"\"\"\n",
        "\n",
        "    # Initialize the search space (Initial State)\n",
        "    initial_state = (0, [], [0] * num_machines)  # (task assignments, machine loads)\n",
        "    queue = [initial_state]  # priority queue to track best states\n",
        "\n",
        "    # TODO: Implement Beam Search Logic Here\n",
        "    for task_id, task_time in enumerate(tasks):\n",
        "        next_states = []\n",
        "\n",
        "        for makespan, schedule, machine_loads in queue:\n",
        "            for machine_id in range(num_machines):\n",
        "                new_machine_loads = machine_loads[:]\n",
        "                new_machine_loads[machine_id] += task_time\n",
        "                new_makespan = max(new_machine_loads)\n",
        "                new_schedule = schedule + [(task_id, machine_id)]\n",
        "\n",
        "                next_states.append((new_makespan, new_schedule, new_machine_loads))\n",
        "\n",
        "        # Keep only the best `beam_width` states\n",
        "        queue = heapq.nsmallest(beam_width, next_states, key=lambda x: x[0])\n",
        "\n",
        "    # The best state in the queue is our solution\n",
        "    best_makespan, best_schedule, final_machine_loads = queue[0]\n",
        "    return final_machine_loads, best_schedule, best_makespan\n",
        "    return\n"
      ]
    },
    {
      "cell_type": "code",
      "execution_count": 23,
      "id": "f5E3e0LQwVI4",
      "metadata": {
        "id": "f5E3e0LQwVI4",
        "colab": {
          "base_uri": "https://localhost:8080/"
        },
        "outputId": "a46e11c7-a72d-4e2c-af2c-34b43ba05455"
      },
      "outputs": [
        {
          "output_type": "stream",
          "name": "stdout",
          "text": [
            "Final Machine Loads: [10, 13, 13]\n",
            "Task Assignments: [(0, 0), (1, 1), (2, 0), (3, 2), (4, 2), (5, 0), (6, 1), (7, 0)]\n",
            "Final Makespan: 13\n"
          ]
        }
      ],
      "source": [
        "##### TEST CASE 1 #######\n",
        "tasks = [4, 7, 2, 5, 8, 3, 6, 1]\n",
        "num_machines = 3\n",
        "beam_width = 1\n",
        "\n",
        "final_loads, assignments, makespan = beam_search_task_scheduling(tasks, num_machines, beam_width)\n",
        "\n",
        "print(\"Final Machine Loads:\", final_loads)\n",
        "print(\"Task Assignments:\", assignments)\n",
        "print(\"Final Makespan:\", makespan)"
      ]
    },
    {
      "cell_type": "code",
      "execution_count": 22,
      "id": "9a73aeac",
      "metadata": {
        "id": "9a73aeac",
        "colab": {
          "base_uri": "https://localhost:8080/"
        },
        "outputId": "23607bf6-3017-45dd-8e0e-618dd04a1690"
      },
      "outputs": [
        {
          "output_type": "stream",
          "name": "stdout",
          "text": [
            "\n",
            "Running Beam Search with beam_width = 1\n",
            "Final Machine Loads: [38, 41, 37]\n",
            "Task Assignments: [(0, 0), (1, 1), (2, 1), (3, 2), (4, 2), (5, 1), (6, 0), (7, 1), (8, 2), (9, 0), (10, 1), (11, 2)]\n",
            "Final Makespan: 41\n",
            "\n",
            "Running Beam Search with beam_width = 2\n",
            "Final Machine Loads: [39, 37, 40]\n",
            "Task Assignments: [(0, 0), (1, 1), (2, 1), (3, 2), (4, 2), (5, 0), (6, 1), (7, 2), (8, 0), (9, 1), (10, 2), (11, 0)]\n",
            "Final Makespan: 40\n",
            "\n",
            "Running Beam Search with beam_width = 3\n",
            "Final Machine Loads: [39, 37, 40]\n",
            "Task Assignments: [(0, 0), (1, 1), (2, 1), (3, 2), (4, 2), (5, 0), (6, 1), (7, 2), (8, 0), (9, 1), (10, 2), (11, 0)]\n",
            "Final Makespan: 40\n",
            "\n",
            "Running Beam Search with beam_width = 4\n",
            "Final Machine Loads: [39, 37, 40]\n",
            "Task Assignments: [(0, 0), (1, 1), (2, 1), (3, 2), (4, 2), (5, 0), (6, 1), (7, 2), (8, 0), (9, 1), (10, 2), (11, 0)]\n",
            "Final Makespan: 40\n"
          ]
        }
      ],
      "source": [
        "##### TEST CASE 2 #######\n",
        "tasks = [18, 5, 12, 3, 20, 7, 14, 8, 10, 6, 9, 4]\n",
        "machines = 3\n",
        "\n",
        "for beam_width in [1, 2, 3, 4]:\n",
        "    print(f\"\\nRunning Beam Search with beam_width = {beam_width}\")\n",
        "    final_loads, assignments, makespan = beam_search_task_scheduling(tasks, machines, beam_width)\n",
        "    print(f\"Final Machine Loads: {final_loads}\")\n",
        "    print(f\"Task Assignments: {assignments}\")\n",
        "    print(f\"Final Makespan: {makespan}\")"
      ]
    },
    {
      "cell_type": "markdown",
      "id": "jhJwo2mhm56E",
      "metadata": {
        "id": "jhJwo2mhm56E"
      },
      "source": [
        "# **Question 2**"
      ]
    },
    {
      "cell_type": "code",
      "execution_count": 51,
      "id": "F18bCFeTm8mG",
      "metadata": {
        "id": "F18bCFeTm8mG"
      },
      "outputs": [],
      "source": [
        "import random\n",
        "import math\n",
        "\n",
        "def simulated_annealing(initial_temp, target_temp, cooling_rates, base_energy_costs, cooling_factor, max_iterations, alpha, beta):\n",
        "    \"\"\"\n",
        "    Simulated Annealing algorithm to optimize energy-efficient cooling.\n",
        "\n",
        "    Parameters:\n",
        "    - target_temp: The desired room temperature (°C).\n",
        "    - max_iterations: Maximum number of iterations before stopping.\n",
        "    - alpha: Weight for temperature difference in heuristic function.\n",
        "    - beta: Weight for energy consumption in heuristic function.\n",
        "\n",
        "    TODO:\n",
        "    - Implement the main Simulated Annealing loop:\n",
        "        - Take cooling rate.\n",
        "        - Calculate new temperature (ensure it doesn't go below target).\n",
        "        - Compute heuristic function h(T).\n",
        "        - Decide whether to accept the new state based on probability.\n",
        "        - Reduce temperature gradually.\n",
        "    - Stop when the target temperature is reached.\n",
        "    \"\"\"\n",
        "\n",
        "\n",
        "    # Initialize the system state\n",
        "    SA_temp = 100\n",
        "    decisions = 0\n",
        "    time_elapsed = 0\n",
        "\n",
        "    total_energy = 0\n",
        "    current_temp = initial_temp\n",
        "    cooling_rate = random.choice(cooling_rates)\n",
        "    current_temp = current_temp - cooling_rate\n",
        "    new_temp = current_temp\n",
        "    total_energy += energy_costs[cooling_rates.index(cooling_rate)]\n",
        "\n",
        "    for iteration in range(max_iterations):\n",
        "\n",
        "        h_T_ = alpha * abs(current_temp - target_temp) + beta * energy_costs[cooling_rates.index(cooling_rate)]\n",
        "\n",
        "        # TODO: Check stopping condition (if current temperature is below target)\n",
        "        if new_temp <= target_temp:\n",
        "            break\n",
        "\n",
        "        # TODO: Select a random cooling rate and calculate new temperature\n",
        "        new_cooling_rate = random.choice(cooling_rates)\n",
        "        new_temp = new_temp - cooling_rate\n",
        "\n",
        "        # TODO: Compute heuristic function h(T)\n",
        "        h_T_new = alpha * abs(new_temp - target_temp) + beta * energy_costs[cooling_rates.index(cooling_rate)]\n",
        "        energy_costs[cooling_rates.index(cooling_rate)] = energy_costs[cooling_rates.index(cooling_rate)] + random.randint(0, 40)\n",
        "\n",
        "        # TODO: Decide whether to accept the new state based on probability\n",
        "        if h_T_new < h_T_:\n",
        "            current_temp = new_temp\n",
        "            h_T_ = h_T_new\n",
        "            cooling_rate = new_cooling_rate\n",
        "            decisions += 1\n",
        "        else:\n",
        "            probability = math.exp((h_T_ - h_T_new) / SA_temp)\n",
        "            if random.random() < probability:\n",
        "                current_temp = new_temp\n",
        "                h_T_ = h_T_new\n",
        "                cooling_rate = new_cooling_rate\n",
        "                decisions += 1\n",
        "\n",
        "        # TODO: Gradually decrease temperature\n",
        "        SA_temp *= cooling_factor\n",
        "\n",
        "        # TODO: Print iteration details (for debugging)\n",
        "        print(f\"Iteration {iteration + 1}:\")\n",
        "        print(f\"Current Temperature: {current_temp}°C\")\n",
        "        print(f\"Cooling Rate: {cooling_rate}°C/min\")\n",
        "        time_elapsed +=1\n",
        "        total_energy += energy_costs[cooling_rates.index(cooling_rate)]\n",
        "\n",
        "    return decisions, time_elapsed, total_energy\n",
        "\n"
      ]
    },
    {
      "cell_type": "code",
      "execution_count": 52,
      "id": "997b1ce7",
      "metadata": {
        "id": "997b1ce7",
        "colab": {
          "base_uri": "https://localhost:8080/"
        },
        "outputId": "de123f62-97ae-4363-eb7a-d037e59c610e"
      },
      "outputs": [
        {
          "output_type": "stream",
          "name": "stdout",
          "text": [
            "Iteration 1:\n",
            "Current Temperature: 29.0°C\n",
            "Cooling Rate: 0.5°C/min\n",
            "Iteration 2:\n",
            "Current Temperature: 28.5°C\n",
            "Cooling Rate: 1.5°C/min\n",
            "Iteration 3:\n",
            "Current Temperature: 27.0°C\n",
            "Cooling Rate: 1.0°C/min\n",
            "Iteration 4:\n",
            "Current Temperature: 26.0°C\n",
            "Cooling Rate: 0.5°C/min\n",
            "Iteration 5:\n",
            "Current Temperature: 25.5°C\n",
            "Cooling Rate: 0.5°C/min\n",
            "Iteration 6:\n",
            "Current Temperature: 25.0°C\n",
            "Cooling Rate: 0.5°C/min\n",
            "Iteration 7:\n",
            "Current Temperature: 24.5°C\n",
            "Cooling Rate: 2.0°C/min\n",
            "Iteration 8:\n",
            "Current Temperature: 22.5°C\n",
            "Cooling Rate: 1.0°C/min\n",
            "Iteration 9:\n",
            "Current Temperature: 21.5°C\n",
            "Cooling Rate: 0.5°C/min\n",
            "Cooling Decisions: 9\n",
            "Total Time Required: 9 minutes\n",
            "Total Energy Consumed: 1681 Watts\n"
          ]
        }
      ],
      "source": [
        "# problem parameters\n",
        "initial_temp = 30\n",
        "target_temp = 22\n",
        "cooling_rates = [0.5, 1.0, 1.5, 2.0]  # °C per minute\n",
        "energy_costs = [100, 150, 200, 250]  # Base Watts (plus additional variation by random number addition)\n",
        "cooling_factor = 0.95\n",
        "max_iterations = 80\n",
        "alpha = 1\n",
        "beta = 0.2\n",
        "\n",
        "decisions, time_elapsed, total_energy = simulated_annealing(initial_temp, target_temp, cooling_rates, energy_costs, cooling_factor, max_iterations, alpha, beta)\n",
        "\n",
        "print(\"Cooling Decisions:\", decisions)\n",
        "print(\"Total Time Required:\", time_elapsed, \"minutes\")\n",
        "print(\"Total Energy Consumed:\", total_energy, \"Watts\")"
      ]
    }
  ],
  "metadata": {
    "colab": {
      "provenance": []
    },
    "kernelspec": {
      "display_name": "Python 3",
      "language": "python",
      "name": "python3"
    },
    "language_info": {
      "codemirror_mode": {
        "name": "ipython",
        "version": 3
      },
      "file_extension": ".py",
      "mimetype": "text/x-python",
      "name": "python",
      "nbconvert_exporter": "python",
      "pygments_lexer": "ipython3",
      "version": "3.12.4"
    }
  },
  "nbformat": 4,
  "nbformat_minor": 5
}