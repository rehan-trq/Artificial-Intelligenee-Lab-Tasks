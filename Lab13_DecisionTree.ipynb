{
  "nbformat": 4,
  "nbformat_minor": 0,
  "metadata": {
    "colab": {
      "provenance": []
    },
    "kernelspec": {
      "name": "python3",
      "display_name": "Python 3"
    },
    "language_info": {
      "name": "python"
    }
  },
  "cells": [
    {
      "cell_type": "code",
      "execution_count": 52,
      "metadata": {
        "id": "HXGnAEeXtirP"
      },
      "outputs": [],
      "source": [
        "import pandas as pd\n",
        "import numpy as np\n",
        "from collections import Counter\n",
        "from sklearn.model_selection import train_test_split\n",
        "from sklearn.metrics import accuracy_score, classification_report\n"
      ]
    },
    {
      "cell_type": "code",
      "source": [
        "def load_and_preprocess(path):\n",
        "    df = pd.read_csv(path)\n",
        "\n",
        "    # Keep relevant columns\n",
        "    df = df[['Pclass', 'Gender', 'Age', 'Fare', 'Embarked', 'Survived']]\n",
        "\n",
        "    # TODO: Drop rows with missing values\n",
        "    # TODO: Convert Age to AgeGroup (Child if < 16, else Adult)\n",
        "    # TODO: Encode categorical features ('Gender', 'Embarked', 'AgeGroup')\n",
        "\n",
        "    # TODO: Prepare X and y\n",
        "    # Return train-test split\n",
        "\n",
        "    df.dropna(inplace=True)\n",
        "    df['AgeGroup'] = df['Age'].apply(lambda x: 'Child' if x < 16 else 'Adult')\n",
        "    df.drop('Age', axis=1, inplace=True)\n",
        "    df = pd.get_dummies(df, columns=['Gender', 'Embarked', 'AgeGroup'])\n",
        "    X = df.drop('Survived', axis=1)\n",
        "    y = df['Survived']\n",
        "    X_train, X_test, y_train, y_test = train_test_split(X, y, test_size=0.2, random_state=42)\n",
        "    return X_train, X_test, y_train, y_test\n",
        "\n",
        "\n",
        "\n"
      ],
      "metadata": {
        "id": "jpfIx03zl8Ok"
      },
      "execution_count": 53,
      "outputs": []
    },
    {
      "cell_type": "code",
      "source": [
        "def entropy(y):\n",
        "    # TODO: Implement entropy calculation\n",
        "\n",
        "    counts = np.bincount(y)\n",
        "    probabilities = counts / len(y)\n",
        "    entropy = -np.sum([p * np.log2(p) for p in probabilities if p > 0])\n",
        "    return entropy\n",
        "\n",
        "\n"
      ],
      "metadata": {
        "id": "qF_5dKxnl8SS"
      },
      "execution_count": 54,
      "outputs": []
    },
    {
      "cell_type": "code",
      "source": [
        "def information_gain(X_column, y, threshold):\n",
        "    # TODO: Calculate information gain for a split\n",
        "\n",
        "    y_left = y[X_column < threshold]\n",
        "    y_right = y[X_column >= threshold]\n",
        "\n",
        "    parent_entropy = entropy(y)\n",
        "    if len(y_left) == 0 or len(y_right) == 0:\n",
        "        return 0\n",
        "\n",
        "    left_entropy = entropy(y_left)\n",
        "    right_entropy = entropy(y_right)\n",
        "\n",
        "    prob_left = len(y_left) / len(y)\n",
        "    prob_right = len(y_right) / len(y)\n",
        "\n",
        "    child_entropy = prob_left * left_entropy + prob_right * right_entropy\n",
        "    information_gain = parent_entropy - child_entropy\n",
        "\n",
        "    return information_gain\n",
        "\n",
        "\n"
      ],
      "metadata": {
        "id": "bXNsYifNl8V2"
      },
      "execution_count": 55,
      "outputs": []
    },
    {
      "cell_type": "code",
      "source": [
        "def best_split(X, y):\n",
        "    # TODO: Loop through features and thresholds to find best split\n",
        "\n",
        "    best_split = {}\n",
        "    best_info_gain = -1\n",
        "\n",
        "    for feature in X.columns:\n",
        "        X_column = X[feature]\n",
        "        thresholds = np.sort(X_column.unique())\n",
        "\n",
        "        for threshold in thresholds:\n",
        "            info_gain = information_gain(X_column, y, threshold)\n",
        "\n",
        "            if info_gain > best_info_gain:\n",
        "                best_split = {\n",
        "                    'feature': feature,\n",
        "                    'threshold': threshold,\n",
        "                    'info_gain': info_gain\n",
        "                }\n",
        "                best_info_gain = info_gain\n",
        "\n",
        "    return best_split\n",
        "\n",
        "\n"
      ],
      "metadata": {
        "id": "0vRF-AhooPd2"
      },
      "execution_count": 56,
      "outputs": []
    },
    {
      "cell_type": "code",
      "source": [
        "class Node:\n",
        "    def __init__(self, feature=None, threshold=None, left=None, right=None, value=None):\n",
        "        self.feature = feature\n",
        "        self.threshold = threshold\n",
        "        self.left = left\n",
        "        self.right = right\n",
        "        self.value = value"
      ],
      "metadata": {
        "id": "Y8xl5Bz9oPfd"
      },
      "execution_count": 57,
      "outputs": []
    },
    {
      "cell_type": "code",
      "source": [
        "def build_tree(X, y, depth=0, max_depth=5):\n",
        "    # TODO: Recursive tree building using ID3\n",
        "\n",
        "    if depth == max_depth or len(y) == 0:  # Check if maximum depth or empty y\n",
        "        if len(y) > 0:\n",
        "            most_common_label = Counter(y).most_common(1)[0][0]\n",
        "        else:\n",
        "            # Handle the case when y is empty, e.g., assign a default value\n",
        "            most_common_label = 0 # or 1, or another relevant default\n",
        "        return Node(value=most_common_label)\n",
        "\n",
        "    else:\n",
        "        bestsplit = best_split(X, y)\n",
        "        if not bestsplit:\n",
        "            most_common_label = Counter(y).most_common(1)[0][0]\n",
        "            return Node(value=most_common_label)\n",
        "\n",
        "        left_indices = X[bestsplit['feature']] < bestsplit['threshold']\n",
        "        right_indices = ~left_indices\n",
        "        left_subtree = build_tree(X[left_indices], y[left_indices], depth + 1, max_depth)\n",
        "        right_subtree = build_tree(X[right_indices], y[right_indices], depth + 1, max_depth)\n",
        "        return Node(bestsplit['feature'], bestsplit['threshold'], left_subtree, right_subtree)\n"
      ],
      "metadata": {
        "id": "wBceAYEAoPi6"
      },
      "execution_count": 58,
      "outputs": []
    },
    {
      "cell_type": "code",
      "source": [
        "def predict_one(x, node):\n",
        "    # TODO: Predict for single sample by traversing the tree\n",
        "\n",
        "    if node.value is not None:\n",
        "        return node.value\n",
        "\n",
        "    # Access the feature value using .loc for pandas Series\n",
        "    if x.loc[node.feature] < node.threshold:\n",
        "        return predict_one(x, node.left)\n",
        "    else:\n",
        "        return predict_one(x, node.right)\n",
        "\n"
      ],
      "metadata": {
        "id": "e-kn8RQloPkh"
      },
      "execution_count": 59,
      "outputs": []
    },
    {
      "cell_type": "code",
      "source": [
        "def predict(X, tree):\n",
        "    # TODO: Predict for all samples\n",
        "\n",
        "    y_pred = [predict_one(x, tree) for _, x in X.iterrows()]\n",
        "    return y_pred\n",
        "\n"
      ],
      "metadata": {
        "id": "N9MvK0o7oZCW"
      },
      "execution_count": 60,
      "outputs": []
    },
    {
      "cell_type": "code",
      "source": [
        "if __name__ == \"__main__\":\n",
        "    X_train, X_test, y_train, y_test = load_and_preprocess(\"/titanic.csv\")\n",
        "\n",
        "    tree = build_tree(X_train, y_train, max_depth=5)\n",
        "    y_pred = predict(X_test, tree)\n",
        "\n",
        "    print(\"Accuracy:\", accuracy_score(y_test, y_pred))\n",
        "    print(classification_report(y_test, y_pred))"
      ],
      "metadata": {
        "id": "_d9q5ioBoPo5",
        "colab": {
          "base_uri": "https://localhost:8080/"
        },
        "outputId": "5fe8896d-7d2f-43e1-c63f-1eab05ebe4bf"
      },
      "execution_count": 61,
      "outputs": [
        {
          "output_type": "stream",
          "name": "stdout",
          "text": [
            "Accuracy: 0.7972027972027972\n",
            "              precision    recall  f1-score   support\n",
            "\n",
            "           0       0.79      0.88      0.83        80\n",
            "           1       0.81      0.70      0.75        63\n",
            "\n",
            "    accuracy                           0.80       143\n",
            "   macro avg       0.80      0.79      0.79       143\n",
            "weighted avg       0.80      0.80      0.79       143\n",
            "\n"
          ]
        }
      ]
    },
    {
      "cell_type": "code",
      "source": [],
      "metadata": {
        "id": "n5oR3GE3pCcZ"
      },
      "execution_count": 61,
      "outputs": []
    }
  ]
}