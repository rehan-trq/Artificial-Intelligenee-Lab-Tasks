{
  "cells": [
    {
      "cell_type": "markdown",
      "id": "34bad134",
      "metadata": {
        "id": "34bad134"
      },
      "source": [
        "# Lab Task: Classification using Neural Networks in PyTorch (Iris Dataset)\n",
        "### Objective:\n",
        "In this task, you will build a neural network for classifying the Iris dataset. The task is divided into five clear parts."
      ]
    },
    {
      "cell_type": "markdown",
      "id": "1dd0ec91",
      "metadata": {
        "id": "1dd0ec91"
      },
      "source": [
        "## Dataset:\n",
        "You will use the **Iris dataset** (available in `sklearn.datasets`). It has 4 features:\n",
        "- `sepal length`\n",
        "- `sepal width`\n",
        "- `petal length`\n",
        "- `petal width`\n",
        "\n",
        "And 3 target classes:\n",
        "- Setosa (0)\n",
        "- Versicolour (1)\n",
        "- Virginica (2)"
      ]
    },
    {
      "cell_type": "markdown",
      "id": "8145588a",
      "metadata": {
        "id": "8145588a"
      },
      "source": [
        "## PART 1: Data Preprocessing"
      ]
    },
    {
      "cell_type": "markdown",
      "id": "0cbf3aca",
      "metadata": {
        "id": "0cbf3aca"
      },
      "source": [
        "Perform the following steps:\n",
        "1. Load the dataset using `sklearn.datasets.load_iris()`.\n",
        "2. Convert it to a Pandas DataFrame.\n",
        "3. Shuffle the dataset.\n",
        "4. Check for missing values.\n",
        "5. Normalize the feature columns using `StandardScaler`.\n",
        "6. Split the data into **80% training** and **20% testing**.\n",
        "7. Convert the data into PyTorch tensors."
      ]
    },
    {
      "cell_type": "code",
      "execution_count": 79,
      "id": "64fbf64e",
      "metadata": {
        "id": "64fbf64e"
      },
      "outputs": [],
      "source": [
        "# TODO BY STUDENTS: Import required libraries\n",
        "import pandas as pd\n",
        "import numpy as np\n",
        "from sklearn import datasets\n",
        "from sklearn.model_selection import train_test_split\n",
        "from sklearn.preprocessing import StandardScaler\n",
        "import torch"
      ]
    },
    {
      "cell_type": "code",
      "execution_count": 80,
      "id": "ffc1654a",
      "metadata": {
        "id": "ffc1654a",
        "colab": {
          "base_uri": "https://localhost:8080/"
        },
        "outputId": "f7c94fb2-a9df-4c87-cb72-66dd19ccbd8b"
      },
      "outputs": [
        {
          "output_type": "stream",
          "name": "stdout",
          "text": [
            "Missing values:\n",
            " sepal length (cm)    0\n",
            "sepal width (cm)     0\n",
            "petal length (cm)    0\n",
            "petal width (cm)     0\n",
            "target               0\n",
            "dtype: int64\n",
            "\n",
            "Preprocessing complete.\n",
            "Training features shape: torch.Size([120, 4])\n",
            "Testing features shape: torch.Size([30, 4])\n",
            "Training target shape: torch.Size([120])\n",
            "Testing target shape: torch.Size([30])\n"
          ]
        }
      ],
      "source": [
        "# TODO: Preprocess the Iris dataset step-by-step\n",
        "\n",
        "# prompt: # TODO: Preprocess the Iris dataset step-by-step\n",
        "\n",
        "# 1. Load the dataset\n",
        "iris = datasets.load_iris()\n",
        "X = iris.data\n",
        "y = iris.target\n",
        "\n",
        "# 2. Convert to a Pandas DataFrame\n",
        "df = pd.DataFrame(X, columns=iris.feature_names)\n",
        "df['target'] = y\n",
        "\n",
        "# 3. Shuffle the dataset\n",
        "df = df.sample(frac=1, random_state=42).reset_index(drop=True)\n",
        "\n",
        "# 4. Check for missing values\n",
        "print(\"Missing values:\\n\", df.isnull().sum())\n",
        "\n",
        "# Separate features and target after shuffling\n",
        "X = df.drop('target', axis=1).values\n",
        "y = df['target'].values\n",
        "\n",
        "# 5. Normalize the feature columns\n",
        "scaler = StandardScaler()\n",
        "X_scaled = scaler.fit_transform(X)\n",
        "\n",
        "# 6. Split the data into 80% training and 20% testing\n",
        "X_train, X_test, y_train, y_test = train_test_split(X_scaled, y, test_size=0.2, random_state=42, stratify=y)\n",
        "\n",
        "# 7. Convert the data into PyTorch tensors\n",
        "X_train_tensor = torch.tensor(X_train, dtype=torch.float32)\n",
        "X_test_tensor = torch.tensor(X_test, dtype=torch.float32)\n",
        "y_train_tensor = torch.tensor(y_train, dtype=torch.long)\n",
        "y_test_tensor = torch.tensor(y_test, dtype=torch.long)\n",
        "\n",
        "print(\"\\nPreprocessing complete.\")\n",
        "print(\"Training features shape:\", X_train_tensor.shape)\n",
        "print(\"Testing features shape:\", X_test_tensor.shape)\n",
        "print(\"Training target shape:\", y_train_tensor.shape)\n",
        "print(\"Testing target shape:\", y_test_tensor.shape)\n",
        "\n",
        "\n"
      ]
    },
    {
      "cell_type": "markdown",
      "id": "7c94d86b",
      "metadata": {
        "id": "7c94d86b"
      },
      "source": [
        "## Feedforward Neural Network"
      ]
    },
    {
      "cell_type": "markdown",
      "id": "6c772a6e",
      "metadata": {
        "id": "6c772a6e"
      },
      "source": [
        "Build a PyTorch neural network with the following architecture:\n",
        "\n",
        "- Input Layer: 4 neurons\n",
        "- Hidden Layer 1: 10 neurons + ReLU\n",
        "- Output Layer: 3 neurons (no activation here, handled by loss function)\n",
        "\n",
        "Use `nn.CrossEntropyLoss()` as the loss function."
      ]
    },
    {
      "cell_type": "code",
      "execution_count": 81,
      "id": "fe4b488e",
      "metadata": {
        "id": "fe4b488e"
      },
      "outputs": [],
      "source": [
        "# model with architecture\n",
        "import torch.nn as nn\n",
        "class Net(nn.Module):\n",
        "    def __init__(self):\n",
        "        super(Net, self).__init__()\n",
        "        # your code here\n",
        "        self.fc1=nn.Linear(4,10)\n",
        "        self.fc2=nn.Linear(10,3)\n",
        "\n",
        "\n",
        "    def forward(self, x):\n",
        "        # your code here\n",
        "\n",
        "        x=torch.relu(self.fc1(x))\n",
        "        x=self.fc2(x)\n",
        "        return x\n",
        "\n",
        "model_1 = Net()"
      ]
    },
    {
      "cell_type": "markdown",
      "id": "3933fe02",
      "metadata": {
        "id": "3933fe02"
      },
      "source": [
        "## PART 2: Modify Architecture"
      ]
    },
    {
      "cell_type": "markdown",
      "id": "14d10817",
      "metadata": {
        "id": "14d10817"
      },
      "source": [
        "Update your model as follows:\n",
        "- Input Layer: 4 neurons (unchanged)\n",
        "- Hidden Layer 1: 16 neurons + ReLU\n",
        "- Hidden Layer 2: 8 neurons + ReLU\n",
        "- Output Layer: 3 neurons"
      ]
    },
    {
      "cell_type": "code",
      "execution_count": 82,
      "id": "29518c59",
      "metadata": {
        "id": "29518c59"
      },
      "outputs": [],
      "source": [
        "# TODO: Modify model to have two hidden layers\n",
        "class NetModified(nn.Module):\n",
        "    def __init__(self):\n",
        "        super(NetModified, self).__init__()\n",
        "        # your code here\n",
        "\n",
        "        self.fc1 = nn.Linear(4, 16)\n",
        "        self.fc2 = nn.Linear(16, 8)\n",
        "        self.fc3 = nn.Linear(8, 3)\n",
        "\n",
        "\n",
        "    def forward(self, x):\n",
        "        # your code here\n",
        "        x = torch.relu(self.fc1(x))\n",
        "        x = torch.relu(self.fc2(x))\n",
        "        x = self.fc3(x)\n",
        "\n",
        "        return x\n",
        "\n",
        "model_2 = NetModified()"
      ]
    },
    {
      "cell_type": "markdown",
      "id": "51d58b60",
      "metadata": {
        "id": "51d58b60"
      },
      "source": [
        "## PART 3: Apply Optimizer and Train models"
      ]
    },
    {
      "cell_type": "markdown",
      "id": "c4c20999",
      "metadata": {
        "id": "c4c20999"
      },
      "source": [
        "Use the following settings:\n",
        "- Optimizer: **Adam**\n",
        "- Learning Rate: `0.01`\n",
        "- Number of Epochs: `300`\n",
        "\n",
        "Train the updated model and log loss."
      ]
    },
    {
      "cell_type": "code",
      "execution_count": 83,
      "id": "6029ab19",
      "metadata": {
        "id": "6029ab19",
        "colab": {
          "base_uri": "https://localhost:8080/",
          "height": 583
        },
        "outputId": "c4cf1abb-6dd7-4b03-dd10-81c54279a384"
      },
      "outputs": [
        {
          "output_type": "stream",
          "name": "stdout",
          "text": [
            "Epoch [50/300], Loss: 0.2656\n",
            "Epoch [100/300], Loss: 0.0986\n",
            "Epoch [150/300], Loss: 0.0623\n",
            "Epoch [200/300], Loss: 0.0521\n",
            "Epoch [250/300], Loss: 0.0474\n",
            "Epoch [300/300], Loss: 0.0448\n"
          ]
        },
        {
          "output_type": "display_data",
          "data": {
            "text/plain": [
              "<Figure size 640x480 with 1 Axes>"
            ],
            "image/png": "[encoded data removed]"
          },
          "metadata": {}
        }
      ],
      "source": [
        "# TODO: Train the model and plot loss (for model_1)\n",
        "import torch.optim as optim\n",
        "import matplotlib.pyplot as plt\n",
        "\n",
        "# Your code here\n",
        "\n",
        "criterion = nn.CrossEntropyLoss()\n",
        "optimizer = optim.Adam(model_1.parameters(), lr=0.01)\n",
        "\n",
        "epochs = 300\n",
        "losses = []\n",
        "\n",
        "for epoch in range(epochs):\n",
        "    optimizer.zero_grad()\n",
        "    outputs = model_1(X_train_tensor)\n",
        "    loss = criterion(outputs, y_train_tensor)\n",
        "    loss.backward()\n",
        "    optimizer.step()\n",
        "\n",
        "    losses.append(loss.item())\n",
        "\n",
        "    if (epoch+1) % 50 == 0:\n",
        "        print(f'Epoch [{epoch+1}/{epochs}], Loss: {loss.item():.4f}')\n",
        "\n",
        "plt.plot(losses)\n",
        "plt.title('Training Loss for model_1')\n",
        "plt.xlabel('Epoch')\n",
        "plt.ylabel('Loss')\n",
        "plt.show()\n"
      ]
    },
    {
      "cell_type": "code",
      "source": [
        "# TODO: Train the model and plot loss (for model_2)\n",
        "import torch.optim as optim\n",
        "import matplotlib.pyplot as plt\n",
        "\n",
        "# Your code here\n",
        "\n",
        "criterion = nn.CrossEntropyLoss()\n",
        "optimizer = optim.Adam(model_2.parameters(), lr=0.01)\n",
        "\n",
        "epochs = 300\n",
        "losses = []\n",
        "\n",
        "for epoch in range(epochs):\n",
        "    optimizer.zero_grad()\n",
        "    outputs = model_2(X_train_tensor)\n",
        "    loss = criterion(outputs, y_train_tensor)\n",
        "    loss.backward()\n",
        "    optimizer.step()\n",
        "\n",
        "    losses.append(loss.item())\n",
        "\n",
        "    if (epoch+1) % 50 == 0:\n",
        "        print(f'Epoch [{epoch+1}/{epochs}], Loss: {loss.item():.4f}')\n",
        "\n",
        "\n",
        "plt.plot(losses)\n",
        "plt.title('Training Loss for model_2')\n",
        "plt.xlabel('Epoch')\n",
        "plt.ylabel('Loss')\n",
        "plt.show()"
      ],
      "metadata": {
        "id": "VZ8kYOV1B8Wz",
        "colab": {
          "base_uri": "https://localhost:8080/",
          "height": 583
        },
        "outputId": "243be9e4-5bd6-4cb6-aad7-62c13b9715de"
      },
      "id": "VZ8kYOV1B8Wz",
      "execution_count": 84,
      "outputs": [
        {
          "output_type": "stream",
          "name": "stdout",
          "text": [
            "Epoch [50/300], Loss: 0.0685\n",
            "Epoch [100/300], Loss: 0.0344\n",
            "Epoch [150/300], Loss: 0.0209\n",
            "Epoch [200/300], Loss: 0.0092\n",
            "Epoch [250/300], Loss: 0.0040\n",
            "Epoch [300/300], Loss: 0.0021\n"
          ]
        },
        {
          "output_type": "display_data",
          "data": {
            "text/plain": [
              "<Figure size 640x480 with 1 Axes>"
            ],
            "image/png": "[encoded data removed]"
          },
          "metadata": {}
        }
      ]
    },
    {
      "cell_type": "markdown",
      "id": "2dd45e3a",
      "metadata": {
        "id": "2dd45e3a"
      },
      "source": [
        "## Evaluation of the Models"
      ]
    },
    {
      "cell_type": "markdown",
      "source": [
        "### **For model_1**"
      ],
      "metadata": {
        "id": "UnEQxQAmCNBi"
      },
      "id": "UnEQxQAmCNBi"
    },
    {
      "cell_type": "code",
      "execution_count": 85,
      "id": "df6b606e",
      "metadata": {
        "id": "df6b606e",
        "colab": {
          "base_uri": "https://localhost:8080/"
        },
        "outputId": "bc12e722-cfea-453d-f29b-ef9e11f45c41"
      },
      "outputs": [
        {
          "output_type": "stream",
          "name": "stdout",
          "text": [
            "Accuracy: 96.67%\n",
            "Confusion Matrix:\n",
            "[[10  0  0]\n",
            " [ 0  9  1]\n",
            " [ 0  0 10]]\n"
          ]
        }
      ],
      "source": [
        "# TODO: Predict and calculate accuracy\n",
        "from sklearn.metrics import accuracy_score, confusion_matrix\n",
        "\n",
        "# your code here\n",
        "\n",
        "with torch.no_grad():\n",
        "    y_pred = model_1(X_test_tensor)\n",
        "    _, predicted = torch.max(y_pred.data, 1)\n",
        "    accuracy = accuracy_score(y_test_tensor, predicted)\n",
        "    print(f'Accuracy: {accuracy * 100:.2f}%')\n",
        "    conf_matrix = confusion_matrix(y_test_tensor, predicted)\n",
        "    print('Confusion Matrix:')\n",
        "    print(conf_matrix)\n",
        "\n"
      ]
    },
    {
      "cell_type": "markdown",
      "source": [
        "### **For model_2**"
      ],
      "metadata": {
        "id": "hIn1juqYCQ3n"
      },
      "id": "hIn1juqYCQ3n"
    },
    {
      "cell_type": "code",
      "source": [
        "# TODO: Predict and calculate accuracy\n",
        "from sklearn.metrics import accuracy_score, confusion_matrix\n",
        "\n",
        "#  your code here\n",
        "\n",
        "with torch.no_grad():\n",
        "    y_pred = model_2(X_test_tensor)\n",
        "    _, predicted = torch.max(y_pred.data, 1)\n",
        "    accuracy = accuracy_score(y_test_tensor, predicted)\n",
        "    print(f'Accuracy: {accuracy * 100:.2f}%')\n",
        "    conf_matrix = confusion_matrix(y_test_tensor, predicted)\n",
        "    print('Confusion Matrix:')\n",
        "    print(conf_matrix)\n"
      ],
      "metadata": {
        "id": "_IgLnFJeCTNj",
        "colab": {
          "base_uri": "https://localhost:8080/"
        },
        "outputId": "8f47f122-9180-4d13-d81d-ac4e5448e3be"
      },
      "id": "_IgLnFJeCTNj",
      "execution_count": 86,
      "outputs": [
        {
          "output_type": "stream",
          "name": "stdout",
          "text": [
            "Accuracy: 93.33%\n",
            "Confusion Matrix:\n",
            "[[10  0  0]\n",
            " [ 0  9  1]\n",
            " [ 0  1  9]]\n"
          ]
        }
      ]
    }
  ],
  "metadata": {
    "colab": {
      "provenance": []
    },
    "language_info": {
      "name": "python"
    },
    "kernelspec": {
      "name": "python3",
      "display_name": "Python 3"
    }
  },
  "nbformat": 4,
  "nbformat_minor": 5
}