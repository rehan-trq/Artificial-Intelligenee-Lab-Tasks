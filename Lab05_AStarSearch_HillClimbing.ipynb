{
  "nbformat": 4,
  "nbformat_minor": 0,
  "metadata": {
    "colab": {
      "provenance": []
    },
    "kernelspec": {
      "name": "python3",
      "display_name": "Python 3"
    },
    "language_info": {
      "name": "python"
    }
  },
  "cells": [
    {
      "cell_type": "markdown",
      "source": [
        "## Rehan Tariq\n",
        "## 22i-0965\n",
        "## CS-6A"
      ],
      "metadata": {
        "id": "PBuNtBWlfQ-0"
      }
    },
    {
      "cell_type": "markdown",
      "source": [
        "## Q1"
      ],
      "metadata": {
        "id": "3XXVWn0Jg45z"
      }
    },
    {
      "cell_type": "code",
      "execution_count": 3,
      "metadata": {
        "id": "hgSK1W21b6BP"
      },
      "outputs": [],
      "source": [
        "def manhattan_distance(state):\n",
        "  goal_positions = {num: (i, j) for i, row in enumerate(goal_state) for j, num in enumerate(row)}\n",
        "  distance = 0\n",
        "\n",
        "  for i in range(4):\n",
        "       for j in range(4):\n",
        "           num = state[i][j]\n",
        "           if num != 0:  # Ignore empty space\n",
        "               goal_i, goal_j = goal_positions[num]\n",
        "               distance += abs(i - goal_i) + abs(j - goal_j)\n",
        "\n",
        "  return distance"
      ]
    },
    {
      "cell_type": "code",
      "source": [
        "import heapq\n",
        "\n",
        "def get_neighbors(state):\n",
        "\n",
        "    moves = []\n",
        "    directions = {\n",
        "        \"Up\": (-1, 0),\n",
        "        \"Down\": (1, 0),\n",
        "        \"Left\": (0, -1),\n",
        "        \"Right\": (0, 1),\n",
        "    }\n",
        "\n",
        "    # Find the empty space (0)\n",
        "    zero_pos = next((i, j) for i in range(4) for j in range(4) if state[i][j] == 0)\n",
        "    x, y = zero_pos\n",
        "\n",
        "    for move, (dx, dy) in directions.items():\n",
        "        nx, ny = x + dx, y + dy\n",
        "        if 0 <= nx < 4 and 0 <= ny < 4:  # Check bounds\n",
        "            new_state = [row[:] for row in state]  # Deep copy\n",
        "            new_state[x][y], new_state[nx][ny] = new_state[nx][ny], new_state[x][y]  # Swap\n",
        "            moves.append((new_state, f\"Move tile {new_state[x][y]} {move}\"))\n",
        "\n",
        "    return moves\n",
        "\n",
        "def a_star_search(start, goal):\n",
        "    priority_queue = []\n",
        "    heapq.heappush(priority_queue, (0, start, []))\n",
        "    visited = set()\n",
        "\n",
        "    while priority_queue:\n",
        "        _, current_state, path = heapq.heappop(priority_queue)\n",
        "\n",
        "        if current_state == goal:\n",
        "            return path\n",
        "\n",
        "        state_tuple = tuple(tuple(row) for row in current_state)\n",
        "        if state_tuple in visited:\n",
        "            continue\n",
        "        visited.add(state_tuple)\n",
        "\n",
        "        for neighbor, move in get_neighbors(current_state):\n",
        "            new_path = path + [(move, neighbor)]\n",
        "            g = len(new_path)\n",
        "            h = manhattan_distance(neighbor)\n",
        "            f = g + h\n",
        "            heapq.heappush(priority_queue, (f, neighbor, new_path))\n",
        "\n",
        "    return [\"No solution found\"]"
      ],
      "metadata": {
        "id": "Gh2GAz5RgAPy"
      },
      "execution_count": 20,
      "outputs": []
    },
    {
      "cell_type": "code",
      "source": [
        "def print_grid(state):\n",
        "    for row in state:\n",
        "        print(\" \".join(str(num).rjust(2) for num in row))\n",
        "\n",
        "\n",
        "start_state = [\n",
        "    [1, 2, 3, 4],\n",
        "    [5, 6, 0, 8],\n",
        "    [9, 10, 7, 11],\n",
        "    [13, 14, 15, 12]\n",
        "]\n",
        "\n",
        "goal_state = [\n",
        "    [1, 2, 3, 4],\n",
        "    [5, 6, 7, 8],\n",
        "    [9, 10, 11, 12],\n",
        "    [13, 14, 15, 0]\n",
        "]\n",
        "\n",
        "solution_moves = a_star_search(start_state, goal_state)\n",
        "\n",
        "\n",
        "print(\"Initial State:\")\n",
        "print_grid(start_state)\n",
        "\n",
        "if not solution_moves or solution_moves == [\"No solution found\"]:\n",
        "    print(\"No solution found.\")\n",
        "else:\n",
        "    for move, state in solution_moves:\n",
        "        print(move)\n",
        "        print_grid(state)\n",
        "\n",
        "print(\"Goal State Reached!\")"
      ],
      "metadata": {
        "colab": {
          "base_uri": "https://localhost:8080/"
        },
        "id": "uMfimxmsguum",
        "outputId": "c6bddaac-3fb1-461b-fb4b-039fc6cbb68b"
      },
      "execution_count": 21,
      "outputs": [
        {
          "output_type": "stream",
          "name": "stdout",
          "text": [
            "Initial State:\n",
            " 1  2  3  4\n",
            " 5  6  0  8\n",
            " 9 10  7 11\n",
            "13 14 15 12\n",
            "Move tile 7 Down\n",
            " 1  2  3  4\n",
            " 5  6  7  8\n",
            " 9 10  0 11\n",
            "13 14 15 12\n",
            "Move tile 11 Right\n",
            " 1  2  3  4\n",
            " 5  6  7  8\n",
            " 9 10 11  0\n",
            "13 14 15 12\n",
            "Move tile 12 Down\n",
            " 1  2  3  4\n",
            " 5  6  7  8\n",
            " 9 10 11 12\n",
            "13 14 15  0\n",
            "Goal State Reached\n",
            " 1  2  3  4\n",
            " 5  6  7  8\n",
            " 9 10 11 12\n",
            "13 14 15  0\n",
            "Goal State Reached!\n"
          ]
        }
      ]
    },
    {
      "cell_type": "markdown",
      "source": [
        "## Q2"
      ],
      "metadata": {
        "id": "0DJ4JPOlg24h"
      }
    },
    {
      "cell_type": "code",
      "source": [
        "import random\n",
        "\n",
        "# feature improvements and their corresponding costs and ratings\n",
        "features = {\n",
        "    \"feature1\": {\"cost\": 100, \"rating\": 3.5},\n",
        "    \"feature2\": {\"cost\": 200, \"rating\": 4.2},\n",
        "    \"feature3\": {\"cost\": 150, \"rating\": 4.0},\n",
        "    \"feature4\": {\"cost\": 300, \"rating\": 3.8},\n",
        "    \"feature5\": {\"cost\": 250, \"rating\": 4.5},\n",
        "    \"feature6\": {\"cost\": 350, \"rating\": 3.6}\n",
        "}\n",
        "\n",
        "# budget for feature improvements\n",
        "budget = 1000"
      ],
      "metadata": {
        "id": "3qRc2zJDg4Dv"
      },
      "execution_count": null,
      "outputs": []
    },
    {
      "cell_type": "code",
      "source": [
        "def evaluate(state):\n",
        "    total_cost = sum(features[f][\"cost\"] for f in state)\n",
        "    if total_cost > budget:\n",
        "        return 0  # Exceeds budget, invalid state\n",
        "    return sum(features[f][\"rating\"] for f in state)"
      ],
      "metadata": {
        "id": "UXwb6Y5WjXa4"
      },
      "execution_count": 10,
      "outputs": []
    },
    {
      "cell_type": "code",
      "source": [
        "def get_neighbors(state):\n",
        "    neighbors = []\n",
        "    all_features = set(features.keys())\n",
        "\n",
        "    # Try adding a new feature\n",
        "    for feature in all_features - set(state):\n",
        "        new_state = state + [feature]\n",
        "        neighbors.append(new_state)\n",
        "\n",
        "    # Try removing a feature\n",
        "    for feature in state:\n",
        "        new_state = state.copy()\n",
        "        new_state.remove(feature)\n",
        "        neighbors.append(new_state)\n",
        "\n",
        "    return neighbors\n",
        "\n",
        "def hill_climbing(max_iter=1000):\n",
        "    current_state = random.sample(list(features.keys()), random.randint(1, len(features)))\n",
        "    best_state = current_state\n",
        "    best_score = evaluate(current_state)\n",
        "\n",
        "    for _ in range(max_iter):\n",
        "        neighbors = get_neighbors(current_state)\n",
        "        best_neighbor = max(neighbors, key=evaluate, default=current_state)\n",
        "        best_neighbor_score = evaluate(best_neighbor)\n",
        "\n",
        "        if best_neighbor_score > best_score:\n",
        "            current_state = best_neighbor\n",
        "            best_score = best_neighbor_score\n",
        "            best_state = current_state\n",
        "        else:\n",
        "            break  # Local maximum reached\n",
        "\n",
        "    return best_state"
      ],
      "metadata": {
        "id": "Bfvnb4B7jdAi"
      },
      "execution_count": 23,
      "outputs": []
    },
    {
      "cell_type": "code",
      "source": [
        "best_state = hill_climbing()\n",
        "\n",
        "print(\"Best sequence of feature improvements:\")\n",
        "for feature in best_state:\n",
        "    print(f\"- {feature}: Cost = {features[feature]['cost']}, Rating = {features[feature]['rating']}\")\n",
        "\n",
        "# Print total rating and total cost\n",
        "total_rating = evaluate(best_state)\n",
        "total_cost = sum(features[f][\"cost\"] for f in best_state)\n",
        "print(\"\\nTotal rating:\", total_rating)\n",
        "print(\"Total cost:\", total_cost)"
      ],
      "metadata": {
        "colab": {
          "base_uri": "https://localhost:8080/"
        },
        "id": "UzPbrBrfinso",
        "outputId": "1ab38bf7-9695-4ab4-f162-8a60baa89e87"
      },
      "execution_count": 24,
      "outputs": [
        {
          "output_type": "stream",
          "name": "stdout",
          "text": [
            "Best sequence of feature improvements:\n",
            "- feature6: Cost = 350, Rating = 3.6\n",
            "- feature2: Cost = 200, Rating = 4.2\n",
            "- feature5: Cost = 250, Rating = 4.5\n",
            "- feature3: Cost = 150, Rating = 4.0\n",
            "\n",
            "Total rating: 16.3\n",
            "Total cost: 950\n"
          ]
        }
      ]
    },
    {
      "cell_type": "code",
      "source": [],
      "metadata": {
        "id": "OD_imJFZjzYc"
      },
      "execution_count": null,
      "outputs": []
    }
  ]
}