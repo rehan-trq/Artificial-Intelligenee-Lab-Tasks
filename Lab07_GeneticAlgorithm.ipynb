{
  "cells": [
    {
      "cell_type": "markdown",
      "metadata": {
        "id": "UJzKHAqXUkmT"
      },
      "source": [
        "# Lab 7 (Genetic Algorithm )\n"
      ]
    },
    {
      "cell_type": "markdown",
      "metadata": {
        "id": "d2UJ38P5Ukmf"
      },
      "source": [
        "## Lab Task 1: KnapSack Problem"
      ]
    },
    {
      "cell_type": "code",
      "execution_count": 129,
      "metadata": {
        "id": "RsSY-NExs2lL"
      },
      "outputs": [],
      "source": [
        "import random\n",
        "\n",
        "# Problem parameters\n",
        "items = [\n",
        "    {\"name\": \"N1\", \"value\": 14, \"weight\": 1},\n",
        "    {\"name\": \"N2\", \"value\": 23, \"weight\": 3},\n",
        "    {\"name\": \"N3\", \"value\": 8, \"weight\": 7},\n",
        "    {\"name\": \"N4\", \"value\": 9, \"weight\": 4},\n",
        "    {\"name\": \"N5\", \"value\": 17, \"weight\": 5},\n",
        "    {\"name\": \"N6\", \"value\": 15, \"weight\": 6}\n",
        "]\n",
        "max_weight = 10\n",
        "population_size = 10\n",
        "mutation_rate = 0.1\n",
        "generations = 50\n"
      ]
    },
    {
      "cell_type": "code",
      "execution_count": 130,
      "metadata": {
        "id": "gHplnTHftrpI"
      },
      "outputs": [],
      "source": [
        "# Initialize population\n",
        "def initialize_population():\n",
        "    \"\"\"Generate an initial population of random solutions.\"\"\"\n",
        "    population = []\n",
        "    for i in range(population_size):\n",
        "        individual = []\n",
        "        for j in range(len(items)):\n",
        "            individual.append(random.randint(0, 1))\n",
        "        population.append(individual)\n",
        "        # print(individual)\n",
        "\n",
        "    return population\n",
        "\n",
        "\n"
      ]
    },
    {
      "cell_type": "code",
      "execution_count": 131,
      "metadata": {
        "id": "NIUXn1DitrsI"
      },
      "outputs": [],
      "source": [
        "# Fitness function\n",
        "def fitness(individual):\n",
        "    \"\"\"Calculate total value while ensuring weight does not exceed max limit.\"\"\"\n",
        "    totalvalue=0\n",
        "    totalweight=0\n",
        "\n",
        "    for i in range(len(individual)):\n",
        "        if individual[i]==1:\n",
        "            totalvalue+=items[i][\"value\"]\n",
        "            totalweight+=items[i][\"weight\"]\n",
        "\n",
        "    # print(\"Total value: \", totalvalue)\n",
        "    # print(\"Total weight: \", totalweight)\n",
        "\n",
        "\n",
        "    if totalweight>max_weight:\n",
        "        totalvalue=totalvalue-totalweight\n",
        "\n",
        "    return totalvalue\n",
        "\n"
      ]
    },
    {
      "cell_type": "code",
      "execution_count": 132,
      "metadata": {
        "id": "8x_B0ZKqtruc"
      },
      "outputs": [],
      "source": [
        "# Selection\n",
        "def selection(population):\n",
        "    \"\"\"Select individuals based on fitness proportion using tournament selection.\"\"\"\n",
        "\n",
        "    tsize =2\n",
        "    tournament = random.sample(population, tsize)\n",
        "    return max(tournament, key=fitness)\n",
        "\n"
      ]
    },
    {
      "cell_type": "code",
      "source": [
        "# Crossover\n",
        "def crossover(parent1, parent2):\n",
        "    \"\"\"Perform crossover between two parents.\"\"\"\n",
        "\n",
        "    crossover_point = random.randint(1, len(parent1) - 1)\n",
        "   # print(crossover_point)\n",
        "    child1 = parent1[:crossover_point] + parent2[crossover_point:]\n",
        "    child2 = parent2[:crossover_point] + parent1[crossover_point:]\n",
        "\n",
        "    # print(child1)\n",
        "    # print(child2)\n",
        "\n",
        "    return child1, child2"
      ],
      "metadata": {
        "id": "Ob5IuJtVNPUm"
      },
      "execution_count": 133,
      "outputs": []
    },
    {
      "cell_type": "code",
      "execution_count": 134,
      "metadata": {
        "id": "NoF50GQMtrzW"
      },
      "outputs": [],
      "source": [
        "# Mutation\n",
        "def mutate(individual):\n",
        "    \"\"\"Apply mutation by flipping a random bit with a probability.\"\"\"\n",
        "\n",
        "    for i in range(len(individual)):\n",
        "        if random.randint(0,1) < mutation_rate:\n",
        "            individual[i] = 1 - individual[i]\n",
        "\n",
        "    return individual\n",
        "\n"
      ]
    },
    {
      "cell_type": "code",
      "execution_count": 173,
      "metadata": {
        "id": "He718-I6WVgT"
      },
      "outputs": [],
      "source": [
        "# Replacement\n",
        "def replace_population(population, new_population):\n",
        "    \"\"\"Replace the weakest individuals with new offspring.\"\"\"\n",
        "\n",
        "    new_population.sort(key=fitness, reverse=True)\n",
        "    overweight = [individual for individual in population if sum(item[\"weight\"] for i, item in enumerate(items) if individual[i] == 1) > max_weight]\n",
        "\n",
        "\n",
        "    if overweight:\n",
        "        for i in range(min(len(overweight), len(new_population))):\n",
        "            population.remove(overweight[i])\n",
        "            population.append(new_population[i])\n",
        "\n",
        "    else:\n",
        "\n",
        "\n",
        "\n",
        "        valid_offspring = [ind for ind in new_population if sum(item[\"weight\"] for i, item in enumerate(items) if ind[i] == 1) <= max_weight]\n",
        "\n",
        "        if len(valid_offspring) >= 2:\n",
        "            population[:2] = valid_offspring[:2]\n",
        "\n",
        "    return population\n"
      ]
    },
    {
      "cell_type": "code",
      "execution_count": 174,
      "metadata": {
        "id": "lSMf7IOLWYld",
        "colab": {
          "base_uri": "https://localhost:8080/"
        },
        "outputId": "38d09d9c-a007-4477-c50e-9b8c21ff85b8"
      },
      "outputs": [
        {
          "output_type": "stream",
          "name": "stdout",
          "text": [
            "Best Solution: [1, 1, 0, 0, 1, 0]\n",
            "Total Value: 54\n",
            "Total Weight: 9\n"
          ]
        }
      ],
      "source": [
        "# Genetic Algorithm Execution\n",
        "def genetic_algorithm():\n",
        "    \"\"\"Run the genetic algorithm.\"\"\"\n",
        "    population = initialize_population()\n",
        "\n",
        "    # for i in range(len(population)):\n",
        "    #     fitness(population[i])\n",
        "    # parent1 = selection(population)\n",
        "    # parent2 = selection(population)\n",
        "    # child1, child2 = crossover(parent1, parent2)\n",
        "\n",
        "    # print(mutate(child1))\n",
        "\n",
        "\n",
        "    for _ in range(generations):\n",
        "        new_population = []\n",
        "        for _ in range(population_size // 2):\n",
        "           parent1 = selection(population)\n",
        "           parent2 = selection(population)\n",
        "           child1, child2 = crossover(parent1, parent2)\n",
        "           new_population.extend([mutate(child1), mutate(child2)])\n",
        "\n",
        "        population = replace_population(population, new_population)\n",
        "\n",
        "    best_solution = max(population, key=fitness)\n",
        "\n",
        "    print(f\"Best Solution: {best_solution}\")\n",
        "\n",
        "    total_value = sum(item[\"value\"] for i, item in enumerate(items) if best_solution[i] == 1)\n",
        "    total_weight = sum(item[\"weight\"] for i, item in enumerate(items) if best_solution[i] == 1)\n",
        "    print(f\"Total Value: {total_value}\")\n",
        "    print(f\"Total Weight: {total_weight}\")\n",
        "\n",
        "genetic_algorithm()"
      ]
    }
  ],
  "metadata": {
    "colab": {
      "provenance": []
    },
    "kernelspec": {
      "display_name": "Python 3",
      "name": "python3"
    },
    "language_info": {
      "name": "python"
    }
  },
  "nbformat": 4,
  "nbformat_minor": 0
}